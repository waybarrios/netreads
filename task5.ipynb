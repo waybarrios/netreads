{
 "cells": [
  {
   "cell_type": "markdown",
   "id": "9f6cc36f-7dae-4f6b-9876-ccd38dc180b7",
   "metadata": {},
   "source": [
    "# Ping IPV6"
   ]
  },
  {
   "cell_type": "code",
   "execution_count": 10,
   "id": "7646abf4-dc0d-472d-b156-177adc77f753",
   "metadata": {},
   "outputs": [
    {
     "name": "stdout",
     "output_type": "stream",
     "text": [
      "sit1: flags=209<UP,POINTOPOINT,RUNNING,NOARP>  mtu 8981\n",
      "        inet6 2001:470:4:2d8::2  prefixlen 64  scopeid 0x0<global>\n",
      "        inet6 fe80::ac1f:1eb8  prefixlen 64  scopeid 0x20<link>\n",
      "        sit  txqueuelen 1000  (IPv6-in-IPv4)\n",
      "        RX packets 93788  bytes 293028594 (293.0 MB)\n",
      "        RX errors 0  dropped 0  overruns 0  frame 0\n",
      "        TX packets 50147  bytes 4229314 (4.2 MB)\n",
      "        TX errors 0  dropped 0 overruns 0  carrier 0  collisions 0\n",
      "\n"
     ]
    }
   ],
   "source": [
    "!ifconfig sit1"
   ]
  },
  {
   "cell_type": "code",
   "execution_count": 1,
   "id": "c3528d85-7da2-48eb-a40b-045719f6137a",
   "metadata": {},
   "outputs": [
    {
     "name": "stdout",
     "output_type": "stream",
     "text": [
      "PING ipv6.google.com(wv-in-f102.1e100.net (2607:f8b0:4004:c1b::66)) 56 data bytes\n",
      "64 bytes from wv-in-f102.1e100.net (2607:f8b0:4004:c1b::66): icmp_seq=1 ttl=107 time=56.5 ms\n",
      "64 bytes from wv-in-f102.1e100.net (2607:f8b0:4004:c1b::66): icmp_seq=2 ttl=107 time=79.0 ms\n",
      "64 bytes from wv-in-f102.1e100.net (2607:f8b0:4004:c1b::66): icmp_seq=3 ttl=107 time=56.0 ms\n",
      "64 bytes from wv-in-f102.1e100.net (2607:f8b0:4004:c1b::66): icmp_seq=4 ttl=107 time=65.6 ms\n",
      "64 bytes from wv-in-f102.1e100.net (2607:f8b0:4004:c1b::66): icmp_seq=5 ttl=107 time=61.0 ms\n",
      "\n",
      "--- ipv6.google.com ping statistics ---\n",
      "5 packets transmitted, 5 received, 0% packet loss, time 4006ms\n",
      "rtt min/avg/max/mdev = 55.956/63.623/79.041/8.462 ms\n"
     ]
    }
   ],
   "source": [
    "!ping -6 ipv6.google.com -c 5"
   ]
  },
  {
   "cell_type": "code",
   "execution_count": 4,
   "id": "7bf109b6-91af-4626-8cf4-497d004bd66b",
   "metadata": {},
   "outputs": [
    {
     "name": "stdout",
     "output_type": "stream",
     "text": [
      "PING facebook.com(edge-star-mini6-shv-01-iad3.facebook.com (2a03:2880:f103:83:face:b00c:0:25de)) 56 data bytes\n",
      "64 bytes from edge-star-mini6-shv-01-iad3.facebook.com (2a03:2880:f103:83:face:b00c:0:25de): icmp_seq=1 ttl=51 time=61.5 ms\n",
      "64 bytes from edge-star-mini6-shv-01-iad3.facebook.com (2a03:2880:f103:83:face:b00c:0:25de): icmp_seq=2 ttl=51 time=64.3 ms\n",
      "64 bytes from edge-star-mini6-shv-01-iad3.facebook.com (2a03:2880:f103:83:face:b00c:0:25de): icmp_seq=3 ttl=51 time=77.6 ms\n",
      "64 bytes from edge-star-mini6-shv-01-iad3.facebook.com (2a03:2880:f103:83:face:b00c:0:25de): icmp_seq=4 ttl=51 time=98.7 ms\n",
      "64 bytes from edge-star-mini6-shv-01-iad3.facebook.com (2a03:2880:f103:83:face:b00c:0:25de): icmp_seq=5 ttl=51 time=74.1 ms\n",
      "\n",
      "--- facebook.com ping statistics ---\n",
      "5 packets transmitted, 5 received, 0% packet loss, time 4005ms\n",
      "rtt min/avg/max/mdev = 61.519/75.242/98.662/13.137 ms\n"
     ]
    }
   ],
   "source": [
    "!ping -6 facebook.com -c 5"
   ]
  },
  {
   "cell_type": "code",
   "execution_count": 7,
   "id": "a542cba5-1352-487e-ac57-ae758e07a757",
   "metadata": {},
   "outputs": [
    {
     "name": "stdout",
     "output_type": "stream",
     "text": [
      "PING 2001:4860:4860::8888(2001:4860:4860::8888) 56 data bytes\n",
      "64 bytes from 2001:4860:4860::8888: icmp_seq=1 ttl=121 time=50.6 ms\n",
      "64 bytes from 2001:4860:4860::8888: icmp_seq=2 ttl=121 time=47.0 ms\n",
      "64 bytes from 2001:4860:4860::8888: icmp_seq=3 ttl=121 time=29.8 ms\n",
      "64 bytes from 2001:4860:4860::8888: icmp_seq=4 ttl=121 time=38.7 ms\n",
      "64 bytes from 2001:4860:4860::8888: icmp_seq=5 ttl=121 time=57.3 ms\n",
      "\n",
      "--- 2001:4860:4860::8888 ping statistics ---\n",
      "5 packets transmitted, 5 received, 0% packet loss, time 4007ms\n",
      "rtt min/avg/max/mdev = 29.804/44.678/57.251/9.539 ms\n"
     ]
    }
   ],
   "source": [
    "!ping -6 2001:4860:4860::8888 -c 5"
   ]
  },
  {
   "cell_type": "code",
   "execution_count": null,
   "id": "74b945a9-b103-4a92-b131-76cf86a79128",
   "metadata": {},
   "outputs": [],
   "source": []
  }
 ],
 "metadata": {
  "kernelspec": {
   "display_name": "Python 3 (ipykernel)",
   "language": "python",
   "name": "python3"
  },
  "language_info": {
   "codemirror_mode": {
    "name": "ipython",
    "version": 3
   },
   "file_extension": ".py",
   "mimetype": "text/x-python",
   "name": "python",
   "nbconvert_exporter": "python",
   "pygments_lexer": "ipython3",
   "version": "3.9.0"
  }
 },
 "nbformat": 4,
 "nbformat_minor": 5
}
