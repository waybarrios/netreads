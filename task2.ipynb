{
 "cells": [
  {
   "cell_type": "code",
   "execution_count": 5,
   "id": "5bb50a5e-c0bf-4c09-84fb-80ec49fa6ece",
   "metadata": {},
   "outputs": [],
   "source": [
    "from scapy.all import *"
   ]
  },
  {
   "cell_type": "markdown",
   "id": "df005b28-90cd-4cdf-8158-ad00b2f7ca4e",
   "metadata": {},
   "source": [
    "## Filter out RST Packets"
   ]
  },
  {
   "cell_type": "code",
   "execution_count": 6,
   "id": "55870ba1-671a-47ee-96b3-0b2683c8eeb7",
   "metadata": {},
   "outputs": [
    {
     "name": "stdout",
     "output_type": "stream",
     "text": [
      "iptables v1.8.7\n",
      "\n",
      "Usage: iptables -[ACD] chain rule-specification [options]\n",
      "\tiptables -I chain [rulenum] rule-specification [options]\n",
      "\tiptables -R chain rulenum rule-specification [options]\n",
      "\tiptables -D chain rulenum [options]\n",
      "\tiptables -[LS] [chain [rulenum]] [options]\n",
      "\tiptables -[FZ] [chain] [options]\n",
      "\tiptables -[NX] chain\n",
      "\tiptables -E old-chain-name new-chain-name\n",
      "\tiptables -P chain target [options]\n",
      "\tiptables -h (print this help information)\n",
      "\n",
      "Commands:\n",
      "Either long or short options are allowed.\n",
      "  --append  -A chain\t\tAppend to chain\n",
      "  --check   -C chain\t\tCheck for the existence of a rule\n",
      "  --delete  -D chain\t\tDelete matching rule from chain\n",
      "  --delete  -D chain rulenum\n",
      "\t\t\t\tDelete rule rulenum (1 = first) from chain\n",
      "  --insert  -I chain [rulenum]\n",
      "\t\t\t\tInsert in chain as rulenum (default 1=first)\n",
      "  --replace -R chain rulenum\n",
      "\t\t\t\tReplace rule rulenum (1 = first) in chain\n",
      "  --list    -L [chain [rulenum]]\n",
      "\t\t\t\tList the rules in a chain or all chains\n",
      "  --list-rules -S [chain [rulenum]]\n",
      "\t\t\t\tPrint the rules in a chain or all chains\n",
      "  --flush   -F [chain]\t\tDelete all rules in  chain or all chains\n",
      "  --zero    -Z [chain [rulenum]]\n",
      "\t\t\t\tZero counters in chain or all chains\n",
      "  --new     -N chain\t\tCreate a new user-defined chain\n",
      "  --delete-chain\n",
      "\t     -X [chain]\t\tDelete a user-defined chain\n",
      "  --policy  -P chain target\n",
      "\t\t\t\tChange policy on chain to target\n",
      "  --rename-chain\n",
      "\t     -E old-chain new-chain\n",
      "\t\t\t\tChange chain name, (moving any references)\n",
      "Options:\n",
      "    --ipv4\t-4\t\tNothing (line is ignored by ip6tables-restore)\n",
      "    --ipv6\t-6\t\tError (line is ignored by iptables-restore)\n",
      "[!] --proto\t-p proto\tprotocol: by number or name, eg. `tcp'\n",
      "[!] --source\t-s address[/mask][...]\n",
      "\t\t\t\tsource specification\n",
      "[!] --destination -d address[/mask][...]\n",
      "\t\t\t\tdestination specification\n",
      "[!] --in-interface -i input name[+]\n",
      "\t\t\t\tnetwork interface name ([+] for wildcard)\n",
      " --jump\t-j target\n",
      "\t\t\t\ttarget for rule (may load target extension)\n",
      "  --goto      -g chain\n",
      "\t\t\t       jump to chain with no return\n",
      "  --match\t-m match\n",
      "\t\t\t\textended match (may load extension)\n",
      "  --numeric\t-n\t\tnumeric output of addresses and ports\n",
      "[!] --out-interface -o output name[+]\n",
      "\t\t\t\tnetwork interface name ([+] for wildcard)\n",
      "  --table\t-t table\ttable to manipulate (default: `filter')\n",
      "  --verbose\t-v\t\tverbose mode\n",
      "  --wait\t-w [seconds]\tmaximum wait to acquire xtables lock before give up\n",
      "  --wait-interval -W [usecs]\twait time to try to acquire xtables lock\n",
      "\t\t\t\tdefault is 1 second\n",
      "  --line-numbers\t\tprint line numbers when listing\n",
      "  --exact\t-x\t\texpand numbers (display exact values)\n",
      "[!] --fragment\t-f\t\tmatch second or further fragments only\n",
      "  --modprobe=<command>\t\ttry to insert modules using this command\n",
      "  --set-counters PKTS BYTES\tset the counter during insert/append\n",
      "[!] --version\t-V\t\tprint package version.\n",
      "iptables v1.8.7 (nf_tables): Could not fetch rule set generation id: Permission denied (you must be root)\n",
      "\n"
     ]
    }
   ],
   "source": [
    "!iptables --help"
   ]
  },
  {
   "cell_type": "markdown",
   "id": "d7703a51-ffee-4ce2-8c3e-3b520c3c7162",
   "metadata": {},
   "source": [
    "##### Outbound \n",
    "```bash\n",
    "$ iptables -A OUTPUT -p tcp --tcp-flags RST RST -j DROP\n",
    "```\n"
   ]
  },
  {
   "cell_type": "code",
   "execution_count": 7,
   "id": "f3b4b777-61fb-43ab-a54c-e409623e8126",
   "metadata": {},
   "outputs": [
    {
     "name": "stdout",
     "output_type": "stream",
     "text": [
      "1: lo: <LOOPBACK,UP,LOWER_UP> mtu 65536 qdisc noqueue state UNKNOWN group default qlen 1000\n",
      "    link/loopback 00:00:00:00:00:00 brd 00:00:00:00:00:00\n",
      "    inet 127.0.0.1/8 scope host lo\n",
      "       valid_lft forever preferred_lft forever\n",
      "    inet6 ::1/128 scope host \n",
      "       valid_lft forever preferred_lft forever\n",
      "2: bond0: <BROADCAST,MULTICAST,MASTER> mtu 1500 qdisc noop state DOWN group default qlen 1000\n",
      "    link/ether 12:a6:e9:68:d8:2b brd ff:ff:ff:ff:ff:ff\n",
      "3: dummy0: <BROADCAST,NOARP> mtu 1500 qdisc noop state DOWN group default qlen 1000\n",
      "    link/ether 16:40:2c:73:15:73 brd ff:ff:ff:ff:ff:ff\n",
      "4: tunl0@NONE: <NOARP> mtu 1480 qdisc noop state DOWN group default qlen 1000\n",
      "    link/ipip 0.0.0.0 brd 0.0.0.0\n",
      "5: sit0@NONE: <NOARP> mtu 1480 qdisc noop state DOWN group default qlen 1000\n",
      "    link/sit 0.0.0.0 brd 0.0.0.0\n",
      "6: eth0: <BROADCAST,MULTICAST,UP,LOWER_UP> mtu 1500 qdisc mq state UP group default qlen 1000\n",
      "    link/ether 00:15:5d:0b:8e:85 brd ff:ff:ff:ff:ff:ff\n",
      "    inet 172.17.92.177/20 brd 172.17.95.255 scope global eth0\n",
      "       valid_lft forever preferred_lft forever\n",
      "    inet6 fe80::215:5dff:fe0b:8e85/64 scope link \n",
      "       valid_lft forever preferred_lft forever\n"
     ]
    }
   ],
   "source": [
    "!ip a"
   ]
  },
  {
   "cell_type": "markdown",
   "id": "bb17cca8-6481-4be8-847c-36a665ed9b3d",
   "metadata": {},
   "source": [
    "#### TCP RST Attack"
   ]
  },
  {
   "cell_type": "code",
   "execution_count": 104,
   "id": "f29d2718-a293-4ebb-ab2c-4f0acbec0a0c",
   "metadata": {},
   "outputs": [],
   "source": [
    "ip_host= \"192.168.1.3\""
   ]
  },
  {
   "cell_type": "code",
   "execution_count": 86,
   "id": "9bf226da-50a8-4211-b6cb-d0ac0d2a699d",
   "metadata": {},
   "outputs": [
    {
     "name": "stdout",
     "output_type": "stream",
     "text": [
      "Begin emission:\n",
      "Finished sending 1 packets.\n",
      "*\n",
      "Received 1 packets, got 1 answers, remaining 0 packets\n"
     ]
    }
   ],
   "source": [
    "\n",
    "# SYN\n",
    "ip=IP(dst=ip_host)\n",
    "SYN=TCP(sport=22,dport=22,flags='S',seq=1000)\n",
    "SYNACK=sr1(ip/SYN,timeout=5)\n",
    "\n"
   ]
  },
  {
   "cell_type": "code",
   "execution_count": 103,
   "id": "b81e8ae3-e793-46f2-afd7-73591c5b5bd8",
   "metadata": {},
   "outputs": [
    {
     "data": {
      "text/plain": [
       "<IP  version=4 ihl=5 tos=0x0 len=44 id=0 flags=DF frag=0 ttl=63 proto=tcp chksum=0x715e src=192.168.1.3 dst=172.17.92.177 |<TCP  sport=ssh dport=ssh seq=1966037757 ack=1001 dataofs=6 reserved=0 flags=SA window=64240 chksum=0xfe75 urgptr=0 options=[('MSS', 1460)] |>>"
      ]
     },
     "execution_count": 103,
     "metadata": {},
     "output_type": "execute_result"
    }
   ],
   "source": [
    "SYNACK"
   ]
  },
  {
   "cell_type": "code",
   "execution_count": 87,
   "id": "93df28d8-adad-4f4a-9596-8ac3cd5c5848",
   "metadata": {},
   "outputs": [
    {
     "data": {
      "text/plain": [
       "1001"
      ]
     },
     "execution_count": 87,
     "metadata": {},
     "output_type": "execute_result"
    }
   ],
   "source": [
    "SYNACK.ack"
   ]
  },
  {
   "cell_type": "code",
   "execution_count": 88,
   "id": "51fa9926-c664-44b7-8fc2-6cf3c6c41ab5",
   "metadata": {},
   "outputs": [
    {
     "data": {
      "text/plain": [
       "1966037757"
      ]
     },
     "execution_count": 88,
     "metadata": {},
     "output_type": "execute_result"
    }
   ],
   "source": [
    "SYNACK.seq"
   ]
  },
  {
   "cell_type": "code",
   "execution_count": 89,
   "id": "26517d66-6314-4fec-903a-e6e0f1318dae",
   "metadata": {},
   "outputs": [
    {
     "name": "stdout",
     "output_type": "stream",
     "text": [
      "\n",
      "Sent 1 packets..\n"
     ]
    }
   ],
   "source": [
    "# SYN-ACK\n",
    "ACK=TCP(sport=sport, dport=22, flags='A', seq=SYNACK.ack + 1, ack=SYNACK.seq + 1)\n",
    "send(ip/ACK)"
   ]
  },
  {
   "cell_type": "markdown",
   "id": "11daa7bd-0764-4f40-b383-07e7ba8d6722",
   "metadata": {},
   "source": [
    "#### Host respond\n",
    "![alt text](tcp_rst_ack.png \"tcp_rst_ack\")"
   ]
  },
  {
   "cell_type": "markdown",
   "id": "90236a05-83cd-49aa-836f-f44f63a025c2",
   "metadata": {},
   "source": [
    "#### Now block TCP RST \n",
    "\n",
    "```bash\n",
    "#Inbound\n",
    "\n",
    "$ iptables -I INPUT -p tcp --tcp-flags ALL RST,ACK -j DROP\n",
    "$ iptables -I INPUT -p tcp --tcp-flags ALL RST -j DROP\n",
    "\n",
    "#Outbound\n",
    "\n",
    "$ iptables -I OUTPUT -p tcp --tcp-flags ALL RST,ACK -j DROP\n",
    "```\n",
    "\n",
    "#### Current Rules:\n",
    "```bash\n",
    "(base) ┌─[uninorte@uninorte-dell] - [/code/nets] - [jue jul 28, 15:38]\n",
    "└─[$] <> sudo iptables -L OUTPUT --line-numbers\n",
    "Chain OUTPUT (policy ACCEPT)\n",
    "num  target     prot opt source               destination\n",
    "1    DROP       tcp  --  anywhere             anywhere             tcp flags:FIN,SYN,RST,PSH,ACK,URG/RST,ACK\n",
    "(base) ┌─[uninorte@uninorte-dell] - [/code/nets] - [jue jul 28, 15:38]\n",
    "└─[$] <> sudo iptables -L INPUT --line-numbers\n",
    "Chain INPUT (policy ACCEPT)\n",
    "num  target     prot opt source               destination\n",
    "1    DROP       tcp  --  anywhere             anywhere             tcp flags:FIN,SYN,RST,PSH,ACK,URG/RST\n",
    "2    DROP       tcp  --  anywhere             anywhere             tcp flags:FIN,SYN,RST,PSH,ACK,URG/RST,ACK\n",
    "(base) ┌─[uninorte@uninorte-dell] - [/code/nets] - [jue jul 28, 15:39]\n",
    "```"
   ]
  },
  {
   "cell_type": "code",
   "execution_count": 98,
   "id": "d4a3b823-bae4-4021-86a5-4aa884cac919",
   "metadata": {},
   "outputs": [
    {
     "name": "stdout",
     "output_type": "stream",
     "text": [
      "Begin emission:\n",
      "Finished sending 1 packets.\n",
      "\n",
      "Received 0 packets, got 0 answers, remaining 1 packets\n"
     ]
    }
   ],
   "source": [
    "# SYN\n",
    "ip2=IP(dst=ip_host)\n",
    "SYN2=TCP(sport=1500,dport=5000,flags='S',seq=1000)\n",
    "SYNACK2=sr1(ip2/SYN2,timeout=5)\n"
   ]
  },
  {
   "cell_type": "code",
   "execution_count": 102,
   "id": "71c98ca6-1be8-4bb2-8d86-b0d535d80acf",
   "metadata": {},
   "outputs": [
    {
     "name": "stdout",
     "output_type": "stream",
     "text": [
      "None\n"
     ]
    }
   ],
   "source": [
    "print(SYNACK2)"
   ]
  },
  {
   "cell_type": "markdown",
   "id": "e7647501-1dfb-47de-8514-67bcdc78ef95",
   "metadata": {},
   "source": [
    "## TraceRoute"
   ]
  },
  {
   "cell_type": "code",
   "execution_count": 148,
   "id": "7b20f599-dc8e-4f51-8f29-8110d7fb4fb8",
   "metadata": {},
   "outputs": [
    {
     "name": "stdout",
     "output_type": "stream",
     "text": [
      "Begin emission:\n",
      "Finished sending 4 packets.\n",
      "*\n",
      "Received 1 packets, got 1 answers, remaining 3 packets\n",
      "  192.168.1.1:tcp80  \n",
      "1 172.17.80.1     11 \n"
     ]
    }
   ],
   "source": [
    "## TCP traceroute\n",
    "\n",
    "target = [\"192.168.1.1\"]\n",
    "result, unans = traceroute(target,maxttl=4)"
   ]
  },
  {
   "cell_type": "code",
   "execution_count": 177,
   "id": "55cd0d45-6927-4a38-9b4e-911a7cf2b861",
   "metadata": {},
   "outputs": [
    {
     "name": "stdout",
     "output_type": "stream",
     "text": [
      "Begin emission:\n",
      "Finished sending 8 packets.\n",
      "****\n",
      "Received 4 packets, got 4 answers, remaining 4 packets\n",
      "  104.21.66.126:tcp80 \n",
      "1 172.17.80.1     11  \n",
      "2 192.168.1.1     11  \n",
      "3 186.102.160.2   11  \n",
      "6 192.168.100.53  11  \n"
     ]
    }
   ],
   "source": [
    "target = [\"waybarrios.com\"]\n",
    "result, unans = traceroute(target,maxttl=8)"
   ]
  },
  {
   "cell_type": "code",
   "execution_count": null,
   "id": "c1e7e425-1576-41bb-92ae-9d8eddc7b33d",
   "metadata": {},
   "outputs": [],
   "source": [
    "#UDP\n",
    "def traceroute_udp(host,maxttl=4,dport=33434): \n",
    "    for i in range(1, maxttl):\n",
    "        pkt = IP(dst=host, ttl=i) / UDP(dport=dport)\n",
    "        # Send the packet and get a reply\n",
    "        reply = sr1(pkt, verbose=0,timeout=2)\n",
    "        if reply is None:\n",
    "            break\n",
    "        elif reply.type == 3:\n",
    "            # We've reached our destination\n",
    "            print (\"Done!\", reply.src)\n",
    "            break\n",
    "        else:\n",
    "            # We're in the middle somewhere\n",
    "            print (\"%d Iteration: \" % i , reply.src)"
   ]
  },
  {
   "cell_type": "code",
   "execution_count": 252,
   "id": "a7d008a6-9013-4318-b3f5-6a7b31439a71",
   "metadata": {},
   "outputs": [
    {
     "name": "stdout",
     "output_type": "stream",
     "text": [
      "1 Iteration:  172.17.80.1\n",
      "Done! 192.168.1.1\n"
     ]
    }
   ],
   "source": [
    "traceroute_udp(\"192.168.1.1\")"
   ]
  },
  {
   "cell_type": "code",
   "execution_count": 213,
   "id": "0898f92a-b3ba-4b96-88c1-2ee8f81396b9",
   "metadata": {},
   "outputs": [
    {
     "name": "stdout",
     "output_type": "stream",
     "text": [
      "1 Iteration:  172.17.80.1\n",
      "2 Iteration:  192.168.1.1\n",
      "3 Iteration:  186.102.160.2\n",
      "4 Iteration:  206.223.124.156\n",
      "5 Iteration:  206.223.124.154\n",
      "6 Iteration:  192.168.100.53\n"
     ]
    }
   ],
   "source": [
    "traceroute_udp(\"waybarrios.com\",maxttl=10)"
   ]
  },
  {
   "cell_type": "code",
   "execution_count": 255,
   "id": "1ecd235e-fe0b-44f1-8af4-418c2ee823cb",
   "metadata": {},
   "outputs": [],
   "source": [
    "def traceroute_icmp(host):\n",
    "    print(\"Tracroute\", host)\n",
    "    flag = True\n",
    "    ttl=1\n",
    "    hops = []\n",
    "    while flag:\n",
    "        ans, unans = sr(IP(dst=host,ttl=ttl)/ICMP(),verbose=0)\n",
    "        if ans.res[0][1].type == 0: # checking for  ICMP echo-reply\n",
    "                hops.append(ans.res[0][1].src)\n",
    "                flag = False\n",
    "        else:\n",
    "                hops.append(ans.res[0][1].src) # storing the src ip from ICMP error message\n",
    "                ttl +=1\n",
    "\n",
    "    for i,hop in enumerate(hops):\n",
    "        print (i, \" \" + hop)\n",
    "    return hops"
   ]
  },
  {
   "cell_type": "code",
   "execution_count": 256,
   "id": "bd7131f5-51fd-426d-acb9-1b68d34c38a9",
   "metadata": {},
   "outputs": [
    {
     "name": "stdout",
     "output_type": "stream",
     "text": [
      "Tracroute 8.8.8.8\n",
      "0  172.17.80.1\n",
      "1  192.168.1.1\n",
      "2  186.102.160.2\n",
      "3  72.14.222.115\n",
      "4  72.14.222.114\n",
      "5  108.170.253.209\n",
      "6  142.250.231.163\n",
      "7  8.8.8.8\n"
     ]
    }
   ],
   "source": [
    "_ = traceroute_icmp(\"8.8.8.8\")"
   ]
  },
  {
   "cell_type": "code",
   "execution_count": 257,
   "id": "e80120e6-74ed-4ce1-9abd-a33380a63870",
   "metadata": {},
   "outputs": [
    {
     "name": "stdout",
     "output_type": "stream",
     "text": [
      "Begin emission:\n",
      "Finished sending 40 packets.\n",
      "************************************Begin emission:\n",
      "Finished sending 4 packets.\n",
      "Begin emission:\n",
      "Finished sending 4 packets.\n",
      "\n",
      "Received 36 packets, got 36 answers, remaining 4 packets\n",
      "   23.14.36.240:tcp443 23.14.36.240:tcp80 \n",
      "1  172.17.80.1     11  172.17.80.1     11 \n",
      "2  192.168.1.1     11  192.168.1.1     11 \n",
      "3  186.102.160.2   11  186.102.160.2   11 \n",
      "6  94.142.99.158   11  94.142.99.93    11 \n",
      "7  23.14.36.240    SA  23.14.36.240    SA \n",
      "8  23.14.36.240    SA  23.14.36.240    SA \n",
      "9  23.14.36.240    SA  23.14.36.240    SA \n",
      "10 23.14.36.240    SA  23.14.36.240    SA \n",
      "11 23.14.36.240    SA  23.14.36.240    SA \n",
      "12 23.14.36.240    SA  23.14.36.240    SA \n",
      "13 23.14.36.240    SA  23.14.36.240    SA \n",
      "14 23.14.36.240    SA  23.14.36.240    SA \n",
      "15 23.14.36.240    SA  23.14.36.240    SA \n",
      "16 23.14.36.240    SA  23.14.36.240    SA \n",
      "17 23.14.36.240    SA  23.14.36.240    SA \n",
      "18 23.14.36.240    SA  23.14.36.240    SA \n",
      "19 23.14.36.240    SA  23.14.36.240    SA \n",
      "20 23.14.36.240    SA  23.14.36.240    SA \n"
     ]
    }
   ],
   "source": [
    "res, unans = traceroute([\"www.microsoft.com\",],dport=[80,443],maxttl=20,retry=-2)"
   ]
  },
  {
   "cell_type": "code",
   "execution_count": null,
   "id": "3bb1fb4f-8098-47f5-9bcf-75e377193468",
   "metadata": {},
   "outputs": [],
   "source": []
  }
 ],
 "metadata": {
  "kernelspec": {
   "display_name": "Python 3 (ipykernel)",
   "language": "python",
   "name": "python3"
  },
  "language_info": {
   "codemirror_mode": {
    "name": "ipython",
    "version": 3
   },
   "file_extension": ".py",
   "mimetype": "text/x-python",
   "name": "python",
   "nbconvert_exporter": "python",
   "pygments_lexer": "ipython3",
   "version": "3.9.12"
  }
 },
 "nbformat": 4,
 "nbformat_minor": 5
}
