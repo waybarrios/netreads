{
 "cells": [
  {
   "cell_type": "markdown",
   "id": "58be7ea0-940d-40cb-869b-fb47524532e6",
   "metadata": {},
   "source": [
    "# Passing exercises "
   ]
  },
  {
   "cell_type": "code",
   "execution_count": 2,
   "id": "bac6e67f-44cc-42fe-9d02-e2808bf62164",
   "metadata": {},
   "outputs": [],
   "source": [
    "import logging\n",
    "logging.getLogger(\"scapy.runtime\").setLevel(logging.ERROR)\n",
    "from scapy.all import * \n",
    "\n"
   ]
  },
  {
   "cell_type": "markdown",
   "id": "2f5e0153-ea6f-46c2-ba45-0456fba90f3e",
   "metadata": {},
   "source": [
    "## Exercise 0"
   ]
  },
  {
   "cell_type": "code",
   "execution_count": 2,
   "id": "f7dffa9d-ea61-4987-bf8f-c6b23f6496ba",
   "metadata": {},
   "outputs": [
    {
     "name": "stdout",
     "output_type": "stream",
     "text": [
      "PING facebook.com(edge-star-mini6-shv-02-iad3.facebook.com (2a03:2880:f103:181:face:b00c:0:25de)) 56 data bytes\n",
      "64 bytes from edge-star-mini6-shv-02-iad3.facebook.com (2a03:2880:f103:181:face:b00c:0:25de): icmp_seq=1 ttl=49 time=0.531 ms\n",
      "64 bytes from edge-star-mini6-shv-02-iad3.facebook.com (2a03:2880:f103:181:face:b00c:0:25de): icmp_seq=2 ttl=49 time=0.560 ms\n",
      "64 bytes from edge-star-mini6-shv-02-iad3.facebook.com (2a03:2880:f103:181:face:b00c:0:25de): icmp_seq=3 ttl=49 time=0.522 ms\n",
      "64 bytes from edge-star-mini6-shv-02-iad3.facebook.com (2a03:2880:f103:181:face:b00c:0:25de): icmp_seq=4 ttl=49 time=0.572 ms\n",
      "\n",
      "--- facebook.com ping statistics ---\n",
      "4 packets transmitted, 4 received, 0% packet loss, time 3021ms\n",
      "rtt min/avg/max/mdev = 0.522/0.546/0.572/0.020 ms\n"
     ]
    }
   ],
   "source": [
    "!ping -6 facebook.com -c 4"
   ]
  },
  {
   "cell_type": "code",
   "execution_count": 3,
   "id": "d588def8-86b6-4385-a5f6-a3583179ec1b",
   "metadata": {},
   "outputs": [],
   "source": [
    "host = \"ipv6.google.com\""
   ]
  },
  {
   "cell_type": "code",
   "execution_count": 6,
   "id": "041701f6-6cd6-4575-b983-821bb0b6e72b",
   "metadata": {},
   "outputs": [
    {
     "name": "stdout",
     "output_type": "stream",
     "text": [
      "Begin emission:\n",
      "Finished sending 1 packets.\n",
      "\n",
      "Received 1 packets, got 1 answers, remaining 0 packets\n"
     ]
    }
   ],
   "source": [
    "i=IPv6(dst=host)\n",
    "q=ICMPv6EchoRequest()\n",
    "p=(i/q)\n",
    "ans = sr1(p,timeout=3, verbose=1)"
   ]
  },
  {
   "cell_type": "code",
   "execution_count": 7,
   "id": "d57c42d0-528c-412c-9011-cb556d865c51",
   "metadata": {},
   "outputs": [
    {
     "name": "stdout",
     "output_type": "stream",
     "text": [
      "###[ IPv6 ]### \n",
      "  version   = 6\n",
      "  tc        = 0\n",
      "  fl        = 0\n",
      "  plen      = 8\n",
      "  nh        = ICMPv6\n",
      "  hlim      = 99\n",
      "  src       = 2607:f8b0:4004:c1b::64\n",
      "  dst       = 2600:1f18:432d:43a1:6454:f46:6121:cfa3\n",
      "###[ ICMPv6 Echo Reply ]### \n",
      "     type      = Echo Reply\n",
      "     code      = 0\n",
      "     cksum     = 0xa33b\n",
      "     id        = 0x0\n",
      "     seq       = 0x0\n",
      "     data      = ''\n",
      "\n"
     ]
    }
   ],
   "source": [
    "ans.show()\n"
   ]
  },
  {
   "cell_type": "markdown",
   "id": "8ddd7476-9fea-4b59-9862-18c31500e5f3",
   "metadata": {},
   "source": [
    "## Exercise 1"
   ]
  },
  {
   "cell_type": "code",
   "execution_count": 62,
   "id": "de32627b-26c9-4c85-b7de-51b910d4079e",
   "metadata": {},
   "outputs": [
    {
     "name": "stdout",
     "output_type": "stream",
     "text": [
      "PING 2604:5f00:ffff:fe00::101:ca75(2604:5f00:ffff:fe00::101:ca75) 56 data bytes\n",
      "From 2604:5f00:ffff:ffff::2 icmp_seq=1 Destination unreachable: Unknown code 6\n",
      "From 2604:5f00:ffff:ffff::2 icmp_seq=2 Destination unreachable: Unknown code 6\n",
      "From 2604:5f00:ffff:ffff::2 icmp_seq=3 Destination unreachable: Unknown code 6\n",
      "\n",
      "--- 2604:5f00:ffff:fe00::101:ca75 ping statistics ---\n",
      "3 packets transmitted, 0 received, +3 errors, 100% packet loss, time 2004ms\n",
      "\n"
     ]
    }
   ],
   "source": [
    "!ping -6 2604:5f00:ffff:fe00::101:ca75 -c 3"
   ]
  },
  {
   "cell_type": "code",
   "execution_count": 68,
   "id": "f787b45d-4c0d-413d-9b60-3b1329cc5863",
   "metadata": {},
   "outputs": [
    {
     "name": "stdout",
     "output_type": "stream",
     "text": [
      "Begin emission:\n",
      "Finished sending 1 packets.\n",
      "\n",
      "Received 1 packets, got 1 answers, remaining 0 packets\n",
      "###[ IPv6 ]### \n",
      "  version   = 6\n",
      "  tc        = 0\n",
      "  fl        = 0\n",
      "  plen      = 56\n",
      "  nh        = ICMPv6\n",
      "  hlim      = 45\n",
      "  src       = 2604:5f00:ffff:ffff::2\n",
      "  dst       = 2600:1f18:432d:43a1:6454:f46:6121:cfa3\n",
      "###[ ICMPv6 Destination Unreachable ]### \n",
      "     type      = Destination unreachable\n",
      "     code      = 6\n",
      "     cksum     = 0x6f43\n",
      "     length    = 0\n",
      "     unused    = 0x0\n",
      "###[ IPv6 in ICMPv6 ]### \n",
      "        version   = 6\n",
      "        tc        = 0\n",
      "        fl        = 0\n",
      "        plen      = 8\n",
      "        nh        = ICMPv6\n",
      "        hlim      = 49\n",
      "        src       = 2600:1f18:432d:43a1:6454:f46:6121:cfa3\n",
      "        dst       = 2604:5f00:ffff:fe00::101:ca75\n",
      "###[ ICMPv6 Echo Request ]### \n",
      "           type      = Echo Request\n",
      "           code      = 0\n",
      "           cksum     = 0xc0fa\n",
      "           id        = 0x0\n",
      "           seq       = 0x0\n",
      "           data      = ''\n",
      "\n"
     ]
    }
   ],
   "source": [
    "ans = sr1(IPv6(dst=\"2604:5f00:ffff:fe00::101:ca75\")/ICMPv6EchoRequest(),timeout=3, verbose=1)\n",
    "ans.show()"
   ]
  },
  {
   "cell_type": "markdown",
   "id": "abc4a095-5a0f-4418-b491-6b4ba13e2035",
   "metadata": {},
   "source": [
    "**Note:** The IPv6 address `2604:5f00:ffff:fe00::101:ca75` is unreachable, so I am going to use one of my hosts with IPv6.\n",
    "\n",
    "My IPv6 host: `2600:1f18:432d:43a1:6454:f46:6121:cfa3`\n"
   ]
  },
  {
   "cell_type": "markdown",
   "id": "90980f81-3f9c-45ae-848a-0f0eb722cb62",
   "metadata": {},
   "source": [
    "### Send my lastname using ICMPv6"
   ]
  },
  {
   "cell_type": "code",
   "execution_count": 60,
   "id": "08541659-358b-4f7f-87ae-801fc7b00723",
   "metadata": {},
   "outputs": [],
   "source": [
    "#send last name as payload \n",
    "#using one of my hosts as destination\n",
    "host_ipv6=\"2600:1f18:432d:43a1:6454:f46:6121:cfa3\"\n",
    "payload = b\"Barrios\""
   ]
  },
  {
   "cell_type": "code",
   "execution_count": 10,
   "id": "adb41914-db79-4b10-81eb-f9df610accf2",
   "metadata": {},
   "outputs": [
    {
     "data": {
      "text/plain": [
       "bytes"
      ]
     },
     "execution_count": 10,
     "metadata": {},
     "output_type": "execute_result"
    }
   ],
   "source": [
    "type(payload)"
   ]
  },
  {
   "cell_type": "code",
   "execution_count": 13,
   "id": "eef3afce-9c08-4c15-8009-bd9a6a40959f",
   "metadata": {},
   "outputs": [
    {
     "name": "stdout",
     "output_type": "stream",
     "text": [
      ".\n",
      "Sent 1 packets.\n"
     ]
    }
   ],
   "source": [
    "send(IPv6(dst=host_ipv6) / ICMPv6EchoRequest() /payload , iface='eth0')\n"
   ]
  },
  {
   "cell_type": "markdown",
   "id": "1b064cf5-3d28-406d-986f-8873bbc6e338",
   "metadata": {},
   "source": [
    "#### Sniffer host output - Lastname\n",
    "```bash\n",
    ">>> pkts=sniff(iface=\"eth0\",lfilter = lambda x: x.haslayer(IPv6))\n",
    ">>> pkts.show()\n",
    "0000 Ether / IPv6 / ICMPv6ND_NS / ICMPv6 Neighbor Discovery Option - Source Link-Layer Address 0a:16:23:17:11:01\n",
    "0001 Ether / IPv6 / ICMPv6 Echo Request (id: 0x0 seq: 0x0)\n",
    "0002 Ether / IPv6 / ICMPv6ND_RA / ICMPv6NDOptSrcLLAddr / ICMPv6 Neighbor Discovery Option - Prefix Information 2600:1f18:432d:43a1::/64 On-link 1 Autonomous Address 0 Router Address 0\n",
    ">>> pkts[1]\n",
    "<Ether  dst=ff:ff:ff:ff:ff:ff src=0a:16:23:17:11:01 type=IPv6 |<IPv6  version=6 tc=0 fl=0 plen=15 nh=ICMPv6 hlim=64 src=2600:1f18:432d:43a1:6454:f46:6121:cfa3 dst=2600:1f18:432d:43a1:6454:f46:6121:cfa3 |<ICMPv6EchoRequesttype=Echo Request code=0 cksum=0xde6 id=0x0 seq=0x0 data='Barrios' |>>>\n",
    "```"
   ]
  },
  {
   "cell_type": "markdown",
   "id": "cad70fe1-7770-4c60-a427-90eb82630e84",
   "metadata": {},
   "source": [
    "### Send long string using ICMPv6"
   ]
  },
  {
   "cell_type": "code",
   "execution_count": 54,
   "id": "236d9bab-9a85-4731-ae3e-8e634fa35886",
   "metadata": {},
   "outputs": [],
   "source": [
    "long_string=\"Internet Protocol version 6 (IPv6) is the most recent version of the Internet Protocol (IP), the communications protocol that provides an identification and location system for computers on\" \\\n",
    "            \"networks and routes traffic across the Internet. IPv6 was developed by the Internet Engineering Task Force (IETF)\" \\\n",
    "            \"to deal with the long-anticipated problem of IPv4 address exhaustion, and is intended to replace IPv4. In December 1998,\" \\\n",
    "            \"IPv6 became a Draft Standard for the IETF, which subsequently ratified it as an Internet Standard on 14 July 2017.Devices on\" \\\n",
    "            \"the Internet are assigned a unique IP address for identification and location definition. With the rapid growth of the Internet\" \\\n",
    "            \"after commercialization in the 1990s, it became evident that far more addresses would be needed to connect devices than the IPv4\" \\\n",
    "            \"address space had available.By 1998, the IETF had formalized the successor protocol. IPv6 uses 128-bit addresses,\" \\\n",
    "            \"theoretically allowing 2128, or approximately 3.4×1038 total addresses. The actual number is slightly smaller, as multiple\" \\\n",
    "            \"ranges are reserved for special use or completely excluded from use. The two protocols are not designed to be interoperable,\" \\\n",
    "            \"and thus direct communication between them is impossible, complicating the move to IPv6. However, several transition mechanisms\" \\\n",
    "            \"have been devised to rectify this. IPv6 provides other technical benefits in addition to a larger addressing space. In particular,\" \\\n",
    "            \"it permits hierarchical address allocation methods that facilitate route aggregation across the Internet, and thus limit the expansion of routing tables.\" \\\n",
    "            \"The use of multicast addressing is expanded and simplified, and provides additional optimization for the delivery of services. Device mobility, security,\" \\\n",
    "            \"and configuration aspects have been considered in the design of the protocol.\" \n",
    "           "
   ]
  },
  {
   "cell_type": "code",
   "execution_count": 55,
   "id": "cf3f7bdb-059b-4237-beea-0cbb0a5b19b0",
   "metadata": {},
   "outputs": [],
   "source": [
    "bytes_long = long_string.encode()"
   ]
  },
  {
   "cell_type": "code",
   "execution_count": 71,
   "id": "f3b6b14b-1deb-4fbb-8dc2-568becf7463e",
   "metadata": {},
   "outputs": [
    {
     "name": "stdout",
     "output_type": "stream",
     "text": [
      "String length: 1801\n"
     ]
    }
   ],
   "source": [
    "print(\"String length:\",len(bytes_long))"
   ]
  },
  {
   "cell_type": "code",
   "execution_count": 57,
   "id": "200b0df9-8e36-4957-9016-9a62ebf5f5f4",
   "metadata": {},
   "outputs": [
    {
     "name": "stdout",
     "output_type": "stream",
     "text": [
      ".\n",
      "Sent 1 packets.\n"
     ]
    }
   ],
   "source": [
    "#send long string\n",
    "send(IPv6(dst=host_ipv6) / ICMPv6EchoRequest() /bytes_long , iface='eth0')\n"
   ]
  },
  {
   "cell_type": "markdown",
   "id": "e490d229-5701-4515-a080-d36fe6f1de29",
   "metadata": {},
   "source": [
    "#### Sniffer host output - Long String\n",
    "```bash\n",
    ">>> pkts.show()\n",
    "0000 Ether / fe80::816:23ff:fe17:1101 > ff02::16 (0) / IPv6ExtHdrHopByHop / ICMPv6MLReport2\n",
    "0001 Ether / fe80::816:23ff:fe17:1101 > ff02::16 (0) / IPv6ExtHdrHopByHop / ICMPv6MLReport2\n",
    "0002 Ether / IPv6 / ICMPv6ND_NS / ICMPv6 Neighbor Discovery Option - Source Link-Layer Address 0a:16:23:17:11:01\n",
    "0003 Ether / IPv6 / ICMPv6 Echo Request (id: 0x0 seq: 0x0)\n",
    "0004 Ether / IPv6 / ICMPv6ND_RA / ICMPv6NDOptSrcLLAddr / ICMPv6 Neighbor Discovery Option - Prefix Information 2600:1f18:432d:43a1::/64 On-link 1 Autonomous Address 0 Router Address 0\n",
    ">>> pkts[3].show()\n",
    "###[ Ethernet ]###\n",
    "  dst       = ff:ff:ff:ff:ff:ff\n",
    "  src       = 0a:16:23:17:11:01\n",
    "  type      = IPv6\n",
    "###[ IPv6 ]###\n",
    "     version   = 6\n",
    "     tc        = 0\n",
    "     fl        = 0\n",
    "     plen      = 1809\n",
    "     nh        = ICMPv6\n",
    "     hlim      = 64\n",
    "     src       = 2600:1f18:432d:43a1:6454:f46:6121:cfa3\n",
    "     dst       = 2600:1f18:432d:43a1:6454:f46:6121:cfa3\n",
    "###[ ICMPv6 Echo Request ]###\n",
    "        type      = Echo Request\n",
    "        code      = 0\n",
    "        cksum     = 0x39c9\n",
    "        id        = 0x0\n",
    "        seq       = 0x0\n",
    "        data      = 'Internet Protocol version 6 (IPv6) is the most recent version of the Internet Protocol (IP), the communications protocol that provides an identification and location system for computers onnetworks and routes traffic across the Internet. IPv6 was developed by the Internet Engineering Task Force (IETF)to deal with the long-anticipated problem of IPv4 address exhaustion, and is intended to replace IPv4. In December 1998,IPv6 became a Draft Standard for the IETF, which subsequently ratified it as an Internet Standard on 14 July 2017.Devices onthe Internet are assigned a unique IP address for identification and location definition. With the rapid growth of the Internetafter commercialization in the 1990s, it became evident that far more addresses would be needed to connect devices than the IPv4address space had available.By 1998, the IETF had formalized the successor protocol. IPv6 uses 128-bit addresses,theoretically allowing 2128, or approximately 3.4×1038 total addresses. The actual number is slightly smaller, as multipleranges are reserved for special use or completely excluded from use. The two protocols are not designed to be interoperable,and thus direct communication between them is impossible, complicating the move to IPv6. However, several transition mechanismshave been devised to rectify this. IPv6 provides other technical benefits in addition to a larger addressing space. In particular,it permits hierarchical address allocation methods that facilitate route aggregation across the Internet, and thus limit the expansion of routing tables.The use of multicast addressing is expanded and simplified, and provides additional optimization for the delivery of services. Device mobility, security,and configuration aspects have been considered in the design of the protocol.'\n",
    ">>> len(pkts[3])\n",
    "1863\n",
    ">>> pkts[3].data\n",
    "b'Internet Protocol version 6 (IPv6) is the most recent version of the Internet Protocol (IP), the communications protocol that provides an identification and location system for computers onnetworks and routes traffic across the Internet. IPv6 was developed by the Internet Engineering Task Force (IETF)to deal with the long-anticipated problem of IPv4 address exhaustion, and is intended to replace IPv4. In December 1998,IPv6 became a Draft Standard for the IETF, which subsequently ratified it as an Internet Standard on 14 July 2017.Devices onthe Internet are assigned a unique IP address for identification and location definition. With the rapid growth of the Internetafter commercialization in the 1990s, it became evident that far more addresses would be needed to connect devices than the IPv4address space had available.By 1998, the IETF had formalized the successor protocol. IPv6 uses 128-bit addresses,theoretically allowing 2128, or approximately 3.4\\xc3\\x971038 total addresses. The actual number is slightly smaller, as multipleranges are reserved for special use or completely excluded from use. The two protocols are not designed to be interoperable,and thus direct communication between them is impossible, complicating the move to IPv6. However, several transition mechanismshave been devised to rectify this. IPv6 provides other technical benefits in addition to a larger addressing space. In particular,it permits hierarchical address allocation methods that facilitate route aggregation across the Internet, and thus limit the expansion of routing tables.The use of multicast addressing is expanded and simplified, and provides additional optimization for the delivery of services. Device mobility, security,and configuration aspects have been considered in the design of the protocol.'\n",
    ">>> len(pkts[3].data)\n",
    "1801\n",
    "```"
   ]
  },
  {
   "cell_type": "markdown",
   "id": "192a8292-983a-45ec-80ef-4e277a0db4a3",
   "metadata": {},
   "source": [
    "### Testing my DNS using IPv6"
   ]
  },
  {
   "cell_type": "code",
   "execution_count": 74,
   "id": "0e62fcc0-42f6-44ef-968c-7fc4953b2430",
   "metadata": {},
   "outputs": [
    {
     "name": "stdout",
     "output_type": "stream",
     "text": [
      ".\n",
      "Sent 1 packets.\n"
     ]
    }
   ],
   "source": [
    "#testing my DNS over IPv6\n",
    "send(IPv6(dst=\"ipv6.waybarrios.com\") / ICMPv6EchoRequest() /b'Testing DNS using IPv6' , iface='eth0')"
   ]
  },
  {
   "cell_type": "markdown",
   "id": "cdddc2c8-83c4-4e87-8549-9f1fc554bb04",
   "metadata": {},
   "source": [
    "#### Sniffer host output - DNS IPv6\n",
    "```bash\n",
    ">>> pkts=sniff(iface=\"eth0\",lfilter = lambda x: x.haslayer(IPv6))\n",
    ">>> pkts.show()\n",
    "0000 Ether / IPv6 / ICMPv6 Echo Request (id: 0x0 seq: 0x0)\n",
    "0001 Ether / IPv6 / ICMPv6 Echo Reply (id: 0x0 seq: 0x0)\n",
    "0002 Ether / IPv6 / ICMPv6ND_RA / ICMPv6NDOptSrcLLAddr / ICMPv6 Neighbor Discovery Option - Prefix Information 2600:1f18:432d:43a1::/64 On-link 1 Autonomous Address 0 Router Address 0\n",
    ">>> pkts[0].show()\n",
    "###[ Ethernet ]###\n",
    "  dst       = 0a:54:50:8c:3c:29\n",
    "  src       = 0a:16:23:17:11:01\n",
    "  type      = IPv6\n",
    "###[ IPv6 ]###\n",
    "     version   = 6\n",
    "     tc        = 0\n",
    "     fl        = 0\n",
    "     plen      = 30\n",
    "     nh        = ICMPv6\n",
    "     hlim      = 64\n",
    "     src       = 2600:1f18:432d:43a1:6454:f46:6121:cfa3\n",
    "     dst       = 2606:4700:3031::6815:427e\n",
    "###[ ICMPv6 Echo Request ]###\n",
    "        type      = Echo Request\n",
    "        code      = 0\n",
    "        cksum     = 0x9235\n",
    "        id        = 0x0\n",
    "        seq       = 0x0\n",
    "        data      = 'Testing DNS using IPv6'\n",
    "```"
   ]
  },
  {
   "cell_type": "markdown",
   "id": "34194777-c00a-43f2-88e3-35279f3523e7",
   "metadata": {},
   "source": [
    "## Exercise 2"
   ]
  },
  {
   "cell_type": "code",
   "execution_count": 82,
   "id": "f06feef1-1e3b-4dd0-abb7-fe3206bdbbf8",
   "metadata": {},
   "outputs": [
    {
     "name": "stdout",
     "output_type": "stream",
     "text": [
      "traceroute to google.com (2607:f8b0:4004:c06::66), 30 hops max, 80 byte packets\n",
      " 1  2620:107:4000:4009:8000:0:6441:1f80 (2620:107:4000:4009:8000:0:6441:1f80)  7.678 ms * 2620:107:4000:4009:8000:0:6441:4a80 (2620:107:4000:4009:8000:0:6441:4a80)  1.791 ms\n",
      " 2  * 2620:107:4000:400d:8000:0:6442:984 (2620:107:4000:400d:8000:0:6442:984)  7.549 ms 2620:107:4000:400d:8000:0:6442:d8c (2620:107:4000:400d:8000:0:6442:d8c)  8.186 ms\n",
      " 3  2620:107:4000:c5c2::f3fd:52 (2620:107:4000:c5c2::f3fd:52)  0.546 ms 2620:107:4000:400d:8000:0:6442:3448 (2620:107:4000:400d:8000:0:6442:3448)  0.707 ms 2620:107:4000:4009:8000:0:6442:2658 (2620:107:4000:4009:8000:0:6442:2658)  8.032 ms\n",
      " 4  2620:107:4000:ad11::f000:e43c (2620:107:4000:ad11::f000:e43c)  0.727 ms 2620:107:4000:400d:8000:0:6442:3626 (2620:107:4000:400d:8000:0:6442:3626)  1.367 ms 2620:107:4000:ad10::f000:e417 (2620:107:4000:ad10::f000:e417)  0.683 ms\n",
      " 5  2620:107:4000:cfff::f3ff:521 (2620:107:4000:cfff::f3ff:521)  0.658 ms 2620:107:4000:c5c0::f3fd:d (2620:107:4000:c5c0::f3fd:d)  0.648 ms 2620:107:4000:c5c0::f3fd:e (2620:107:4000:c5c0::f3fd:e)  0.707 ms\n",
      " 6  2620:107:4000:a5d0::f000:2018 (2620:107:4000:a5d0::f000:2018)  0.771 ms 2620:107:4000:a710::f000:301a (2620:107:4000:a710::f000:301a)  0.671 ms 2620:107:4000:a5d0::f000:2017 (2620:107:4000:a5d0::f000:2017)  0.792 ms\n",
      " 7  2620:107:4000:a710::f000:301a (2620:107:4000:a710::f000:301a)  0.807 ms 2620:107:4000:a710::f000:3015 (2620:107:4000:a710::f000:3015)  0.857 ms 2620:107:4000:cfff::f200:9b31 (2620:107:4000:cfff::f200:9b31)  0.604 ms\n",
      " 8  2620:107:4000:2000::d3 (2620:107:4000:2000::d3)  1.457 ms 2620:107:4000:2000::b5 (2620:107:4000:2000::b5)  0.436 ms 2620:107:4000:2000::a1 (2620:107:4000:2000::a1)  0.575 ms\n",
      " 9  2620:107:4000:2000::a7 (2620:107:4000:2000::a7)  0.649 ms 2620:107:4000:2000::cb (2620:107:4000:2000::cb)  0.507 ms 2620:107:4000:2000::c7 (2620:107:4000:2000::c7)  0.788 ms\n",
      "10  * 2620:107:4000:8002::41 (2620:107:4000:8002::41)  0.561 ms 2620:107:4000:8001::242 (2620:107:4000:8001::242)  0.490 ms\n",
      "11  * * 2607:f8b0:8282::1 (2607:f8b0:8282::1)  1.909 ms\n",
      "12  * 2607:f8b0:8287::1 (2607:f8b0:8287::1)  1.362 ms 2001:4860:0:eae::10 (2001:4860:0:eae::10)  0.937 ms\n",
      "13  * * 2001:4860:0:1099::3 (2001:4860:0:1099::3)  1.176 ms\n",
      "14  2001:4860:0:eae::2 (2001:4860:0:eae::2)  1.379 ms * 2001:4860:0:eaf::2 (2001:4860:0:eaf::2)  0.912 ms\n",
      "15  * 2001:4860::c:4002:332e (2001:4860::c:4002:332e)  2.252 ms 2001:4860::c:4002:6e15 (2001:4860::c:4002:6e15)  1.396 ms\n",
      "16  2001:4860::c:4002:6e17 (2001:4860::c:4002:6e17)  2.421 ms 2001:4860::c:4002:1ea3 (2001:4860::c:4002:1ea3)  1.589 ms *\n",
      "17  * 2001:4860::c:4002:1ea2 (2001:4860::c:4002:1ea2)  1.456 ms *\n",
      "18  2001:4860::cc:4001:8ba0 (2001:4860::cc:4001:8ba0)  2.719 ms * 2001:4860::cc:4001:8b9f (2001:4860::cc:4001:8b9f)  2.707 ms\n",
      "19  * * *\n",
      "20  * * *\n",
      "21  * * *\n",
      "22  * * *\n",
      "23  * * *\n",
      "24  bg-in-f102.1e100.net (2607:f8b0:4004:c06::66)  1.829 ms  1.649 ms *\n"
     ]
    }
   ],
   "source": [
    "!traceroute6 google.com"
   ]
  },
  {
   "cell_type": "code",
   "execution_count": 16,
   "id": "e33b51de-fec6-49e3-8bdb-5f69292ff029",
   "metadata": {},
   "outputs": [
    {
     "name": "stdout",
     "output_type": "stream",
     "text": [
      "Begin emission:\n",
      "Finished sending 30 packets.\n",
      "\n",
      "Received 28 packets, got 18 answers, remaining 12 packets\n",
      "   2607:f8b0:4004:c06::66                    :tcphttp \n",
      "4  2620:107:4000:ad10::f000:e419              3       \n",
      "5  2620:107:4000:cfff::f3ff:1d79              3       \n",
      "6  2620:107:4000:a710::f000:301b              3       \n",
      "7  2620:107:4000:cfff::f200:bab1              3       \n",
      "8  2620:107:4000:cfff::f200:9b21              3       \n",
      "9  2620:107:4000:2000::d5                     3       \n",
      "10 2620:107:4000:8001::22                     3       \n",
      "11 2001:4860:0:1::1b5b                        3       \n",
      "12 2001:4860:0:1::1070                        3       \n",
      "13 2001:4860::c:4000:d387                     3       \n",
      "14 2001:4860::c:4002:6e12                     3       \n",
      "15 2001:4860::c:4001:9fae                     3       \n",
      "16 2001:4860::c:4002:1ea3                     3       \n",
      "17 2001:4860::cc:4002:1f2c                    3       \n",
      "27 2607:f8b0:4004:c06::66                     SA      \n",
      "28 2607:f8b0:4004:c06::66                     SA      \n",
      "29 2607:f8b0:4004:c06::66                     SA      \n",
      "30 2607:f8b0:4004:c06::66                     SA      \n"
     ]
    },
    {
     "data": {
      "text/plain": [
       "(<Traceroute: TCP:4 UDP:0 ICMP:0 Other:14>,\n",
       " <Unanswered: TCP:12 UDP:0 ICMP:0 Other:0>)"
      ]
     },
     "execution_count": 16,
     "metadata": {},
     "output_type": "execute_result"
    }
   ],
   "source": [
    "traceroute6(\"google.com\",iface='eth0',verbose=True)\n"
   ]
  },
  {
   "cell_type": "code",
   "execution_count": 25,
   "id": "301464b6-bb56-476c-bf05-0420d7a72ed2",
   "metadata": {},
   "outputs": [
    {
     "name": "stdout",
     "output_type": "stream",
     "text": [
      "Begin emission:\n",
      "Finished sending 30 packets.\n",
      "\n",
      "Received 37 packets, got 21 answers, remaining 9 packets\n",
      "   2a03:2880:f103:181:face:b00c:0:25de       :tcphttp \n",
      "4  2620:107:4000:ad10::f000:e417              3       \n",
      "5  2620:107:4000:c5c0::f3fd:e                 3       \n",
      "6  2620:107:4000:a5d0::f000:2014              3       \n",
      "7  2620:107:4000:a710::f000:3012              3       \n",
      "8  2620:107:4000:cfff::f200:9a31              3       \n",
      "9  2620:107:4000:2000::dd                     3       \n",
      "10 2620:107:4008:530::2                       3       \n",
      "11 2620:107:4008:531::2                       3       \n",
      "12 2620:0:1cff:dead:bef0::14d                 3       \n",
      "14 2a03:2880:f103:181:face:b00c:0:25de        SA      \n",
      "15 2a03:2880:f103:181:face:b00c:0:25de        SA      \n",
      "16 2a03:2880:f103:181:face:b00c:0:25de        SA      \n",
      "17 2a03:2880:f103:181:face:b00c:0:25de        SA      \n",
      "18 2a03:2880:f103:181:face:b00c:0:25de        SA      \n",
      "19 2a03:2880:f103:181:face:b00c:0:25de        SA      \n",
      "20 2a03:2880:f103:181:face:b00c:0:25de        SA      \n",
      "21 2a03:2880:f103:181:face:b00c:0:25de        SA      \n",
      "22 2a03:2880:f103:181:face:b00c:0:25de        SA      \n",
      "23 2a03:2880:f103:181:face:b00c:0:25de        SA      \n",
      "24 2a03:2880:f103:181:face:b00c:0:25de        SA      \n",
      "30 2a03:2880:f103:181:face:b00c:0:25de        SA      \n"
     ]
    },
    {
     "data": {
      "text/plain": [
       "(<Traceroute: TCP:12 UDP:0 ICMP:0 Other:9>,\n",
       " <Unanswered: TCP:9 UDP:0 ICMP:0 Other:0>)"
      ]
     },
     "execution_count": 25,
     "metadata": {},
     "output_type": "execute_result"
    }
   ],
   "source": [
    "traceroute6(\"facebook.com\",iface='eth0',verbose=True)\n"
   ]
  },
  {
   "cell_type": "code",
   "execution_count": 26,
   "id": "afaa4bad-dfd9-437f-88d9-3d7379711625",
   "metadata": {},
   "outputs": [
    {
     "name": "stdout",
     "output_type": "stream",
     "text": [
      "Begin emission:\n",
      "Finished sending 20 packets.\n",
      "\n",
      "Received 32 packets, got 17 answers, remaining 3 packets\n",
      "   2606:4700:3035::ac43:9fea                 :tcphttp \n",
      "4  2620:107:4000:ad11::f000:e438              3       \n",
      "5  2620:107:4000:c5c0::f3fd:19                3       \n",
      "6  2620:107:4000:c5c0::f3fd:14                3       \n",
      "7  2620:107:4000:a5d0::f000:201f              3       \n",
      "8  2620:107:4000:cfff::f200:baa1              3       \n",
      "9  2620:107:4000:8001::225                    3       \n",
      "10 2620:107:4008:105::2                       3       \n",
      "11 2400:cb00:16:3::                           3       \n",
      "12 2606:4700:3035::ac43:9fea                  SA      \n",
      "13 2606:4700:3035::ac43:9fea                  SA      \n",
      "14 2606:4700:3035::ac43:9fea                  SA      \n",
      "15 2606:4700:3035::ac43:9fea                  SA      \n",
      "16 2606:4700:3035::ac43:9fea                  SA      \n",
      "17 2606:4700:3035::ac43:9fea                  SA      \n",
      "18 2606:4700:3035::ac43:9fea                  SA      \n",
      "19 2606:4700:3035::ac43:9fea                  SA      \n",
      "20 2606:4700:3035::ac43:9fea                  SA      \n"
     ]
    }
   ],
   "source": [
    "ans,uans = traceroute6(\"ipv6.waybarrios.com\",iface='eth0',verbose=True,maxttl=20)"
   ]
  },
  {
   "cell_type": "markdown",
   "id": "1fdf7417-1aaf-4525-9986-c2aa4462abfb",
   "metadata": {},
   "source": [
    "#### Packets from Traceroute"
   ]
  },
  {
   "cell_type": "code",
   "execution_count": 53,
   "id": "3778bb60-388d-4aa3-95b1-774554c6b790",
   "metadata": {},
   "outputs": [
    {
     "data": {
      "text/plain": [
       "<IPv6  version=6 tc=0 fl=682892 plen=68 nh=ICMPv6 hlim=61 src=2620:107:4000:ad11::f000:e438 dst=2600:1f18:432d:43a1:6454:f46:6121:cfa3 |<ICMPv6TimeExceeded  type=Time exceeded code=hop limit exceeded in transit cksum=0x3dcd length=0 unused=0x0 |<IPerror6  version=6 tc=0 fl=0 plen=20 nh=TCP hlim=1 src=2600:1f18:432d:43a1:6454:f46:6121:cfa3 dst=2606:4700:3035::ac43:9fea |<TCPerror  sport=12746 dport=http seq=869275962 ack=0 dataofs=5 reserved=0 flags=S window=8192 chksum=0xb70e urgptr=0 |>>>>"
      ]
     },
     "execution_count": 53,
     "metadata": {},
     "output_type": "execute_result"
    }
   ],
   "source": [
    "#query type\n",
    "ans[0].query"
   ]
  },
  {
   "cell_type": "code",
   "execution_count": 54,
   "id": "3344a526-134f-4419-8f59-9d980d3c1f0d",
   "metadata": {},
   "outputs": [
    {
     "data": {
      "text/plain": [
       "<IPv6  version=6 tc=0 fl=682892 plen=68 nh=ICMPv6 hlim=61 src=2620:107:4000:ad11::f000:e438 dst=2600:1f18:432d:43a1:6454:f46:6121:cfa3 |<ICMPv6TimeExceeded  type=Time exceeded code=hop limit exceeded in transit cksum=0x3dcd length=0 unused=0x0 |<IPerror6  version=6 tc=0 fl=0 plen=20 nh=TCP hlim=1 src=2600:1f18:432d:43a1:6454:f46:6121:cfa3 dst=2606:4700:3035::ac43:9fea |<TCPerror  sport=12746 dport=http seq=869275962 ack=0 dataofs=5 reserved=0 flags=S window=8192 chksum=0xb70e urgptr=0 |>>>>"
      ]
     },
     "execution_count": 54,
     "metadata": {},
     "output_type": "execute_result"
    }
   ],
   "source": [
    "#answer type\n",
    "ans[0].answer"
   ]
  },
  {
   "cell_type": "markdown",
   "id": "56fa8471-da0b-4597-9fea-1f49d30d56d1",
   "metadata": {},
   "source": [
    "## Exercise 3\n"
   ]
  },
  {
   "cell_type": "code",
   "execution_count": 144,
   "id": "1b1eed4e-fa32-481b-8716-903ff84bf188",
   "metadata": {},
   "outputs": [
    {
     "name": "stdout",
     "output_type": "stream",
     "text": [
      "\n",
      "; <<>> DiG 9.18.1-1ubuntu1.1-Ubuntu <<>> ipv6.waybarrios.com A ipv6.waybarrios.com AAAA\n",
      ";; global options: +cmd\n",
      ";; Got answer:\n",
      ";; ->>HEADER<<- opcode: QUERY, status: NOERROR, id: 50276\n",
      ";; flags: qr rd ra; QUERY: 1, ANSWER: 2, AUTHORITY: 0, ADDITIONAL: 1\n",
      "\n",
      ";; OPT PSEUDOSECTION:\n",
      "; EDNS: version: 0, flags:; udp: 65494\n",
      ";; QUESTION SECTION:\n",
      ";ipv6.waybarrios.com.\t\tIN\tA\n",
      "\n",
      ";; ANSWER SECTION:\n",
      "ipv6.waybarrios.com.\t250\tIN\tA\t172.67.159.234\n",
      "ipv6.waybarrios.com.\t250\tIN\tA\t104.21.66.126\n",
      "\n",
      ";; Query time: 0 msec\n",
      ";; SERVER: 127.0.0.53#53(127.0.0.53) (UDP)\n",
      ";; WHEN: Fri Aug 26 16:37:20 UTC 2022\n",
      ";; MSG SIZE  rcvd: 80\n",
      "\n",
      ";; Got answer:\n",
      ";; ->>HEADER<<- opcode: QUERY, status: NOERROR, id: 17567\n",
      ";; flags: qr rd ra; QUERY: 1, ANSWER: 2, AUTHORITY: 0, ADDITIONAL: 1\n",
      "\n",
      ";; OPT PSEUDOSECTION:\n",
      "; EDNS: version: 0, flags:; udp: 65494\n",
      ";; QUESTION SECTION:\n",
      ";ipv6.waybarrios.com.\t\tIN\tAAAA\n",
      "\n",
      ";; ANSWER SECTION:\n",
      "ipv6.waybarrios.com.\t250\tIN\tAAAA\t2606:4700:3035::ac43:9fea\n",
      "ipv6.waybarrios.com.\t250\tIN\tAAAA\t2606:4700:3031::6815:427e\n",
      "\n",
      ";; Query time: 0 msec\n",
      ";; SERVER: 127.0.0.53#53(127.0.0.53) (UDP)\n",
      ";; WHEN: Fri Aug 26 16:37:20 UTC 2022\n",
      ";; MSG SIZE  rcvd: 104\n",
      "\n"
     ]
    }
   ],
   "source": [
    "!dig ipv6.waybarrios.com A ipv6.waybarrios.com AAAA\n"
   ]
  },
  {
   "cell_type": "code",
   "execution_count": 125,
   "id": "71663ca0-8e42-4d1f-a435-a644ee2feb3b",
   "metadata": {},
   "outputs": [
    {
     "name": "stdout",
     "output_type": "stream",
     "text": [
      "\n",
      "; <<>> DiG 9.18.1-1ubuntu1.1-Ubuntu <<>> ipv6.waybarrios.com\n",
      ";; global options: +cmd\n",
      ";; Got answer:\n",
      ";; ->>HEADER<<- opcode: QUERY, status: NOERROR, id: 6900\n",
      ";; flags: qr rd ra; QUERY: 1, ANSWER: 2, AUTHORITY: 0, ADDITIONAL: 1\n",
      "\n",
      ";; OPT PSEUDOSECTION:\n",
      "; EDNS: version: 0, flags:; udp: 65494\n",
      ";; QUESTION SECTION:\n",
      ";ipv6.waybarrios.com.\t\tIN\tA\n",
      "\n",
      ";; ANSWER SECTION:\n",
      "ipv6.waybarrios.com.\t285\tIN\tA\t104.21.66.126\n",
      "ipv6.waybarrios.com.\t285\tIN\tA\t172.67.159.234\n",
      "\n",
      ";; Query time: 0 msec\n",
      ";; SERVER: 127.0.0.53#53(127.0.0.53) (UDP)\n",
      ";; WHEN: Fri Aug 26 16:15:49 UTC 2022\n",
      ";; MSG SIZE  rcvd: 80\n",
      "\n"
     ]
    }
   ],
   "source": [
    "!dig ipv6.waybarrios.com"
   ]
  },
  {
   "cell_type": "code",
   "execution_count": 139,
   "id": "4be4b65e-2e1f-4250-b35e-19ac2f1e7419",
   "metadata": {},
   "outputs": [
    {
     "name": "stdout",
     "output_type": "stream",
     "text": [
      "Begin emission:\n",
      "Finished sending 1 packets.\n",
      ".*\n",
      "Received 2 packets, got 1 answers, remaining 0 packets\n"
     ]
    }
   ],
   "source": [
    "#IPv6 version\n",
    "PUBLIC_DNS = \"2606:4700:4700::1111\"\n",
    "ans = sr1(IPv6(dst=PUBLIC_DNS)/UDP()/DNS(qd=DNSQR(qname=\"ipv6.waybarrios.com\", qtype=\"AAAA\"))) \n"
   ]
  },
  {
   "cell_type": "code",
   "execution_count": 140,
   "id": "792b4348-2785-48d5-b1b0-304766879692",
   "metadata": {},
   "outputs": [
    {
     "name": "stdout",
     "output_type": "stream",
     "text": [
      "###[ IPv6 ]### \n",
      "  version   = 6\n",
      "  tc        = 0\n",
      "  fl        = 805421\n",
      "  plen      = 101\n",
      "  nh        = UDP\n",
      "  hlim      = 51\n",
      "  src       = 2606:4700:4700::1111\n",
      "  dst       = 2600:1f18:432d:43a1:6454:f46:6121:cfa3\n",
      "###[ UDP ]### \n",
      "     sport     = domain\n",
      "     dport     = domain\n",
      "     len       = 101\n",
      "     chksum    = 0xd857\n",
      "###[ DNS ]### \n",
      "        id        = 0\n",
      "        qr        = 1\n",
      "        opcode    = QUERY\n",
      "        aa        = 0\n",
      "        tc        = 0\n",
      "        rd        = 1\n",
      "        ra        = 1\n",
      "        z         = 0\n",
      "        ad        = 0\n",
      "        cd        = 0\n",
      "        rcode     = ok\n",
      "        qdcount   = 1\n",
      "        ancount   = 2\n",
      "        nscount   = 0\n",
      "        arcount   = 0\n",
      "        \\qd        \\\n",
      "         |###[ DNS Question Record ]### \n",
      "         |  qname     = 'ipv6.waybarrios.com.'\n",
      "         |  qtype     = AAAA\n",
      "         |  qclass    = IN\n",
      "        \\an        \\\n",
      "         |###[ DNS Resource Record ]### \n",
      "         |  rrname    = 'ipv6.waybarrios.com.'\n",
      "         |  type      = AAAA\n",
      "         |  rclass    = IN\n",
      "         |  ttl       = 300\n",
      "         |  rdlen     = None\n",
      "         |  rdata     = 2606:4700:3031::6815:427e\n",
      "         |###[ DNS Resource Record ]### \n",
      "         |  rrname    = 'ipv6.waybarrios.com.'\n",
      "         |  type      = AAAA\n",
      "         |  rclass    = IN\n",
      "         |  ttl       = 300\n",
      "         |  rdlen     = None\n",
      "         |  rdata     = 2606:4700:3035::ac43:9fea\n",
      "        ns        = None\n",
      "        ar        = None\n",
      "\n"
     ]
    }
   ],
   "source": [
    "ans.show()"
   ]
  },
  {
   "cell_type": "code",
   "execution_count": 141,
   "id": "16bc34a6-d3f4-4c70-8f02-4e0f4c4a3ad9",
   "metadata": {},
   "outputs": [
    {
     "name": "stdout",
     "output_type": "stream",
     "text": [
      "Begin emission:\n",
      "Finished sending 1 packets.\n",
      "..*\n",
      "Received 3 packets, got 1 answers, remaining 0 packets\n"
     ]
    }
   ],
   "source": [
    "PUBLIC_DNS_ipv4 = \"1.1.1.1\"\n",
    "ans_ipv4 = sr1(IP(dst=PUBLIC_DNS_ipv4)/UDP()/DNS(qd=DNSQR(qname=\"ipv6.waybarrios.com\", qtype=\"A\"))) "
   ]
  },
  {
   "cell_type": "code",
   "execution_count": 142,
   "id": "6f24460f-ae3d-4b0c-b877-7e66a2d71303",
   "metadata": {},
   "outputs": [
    {
     "name": "stdout",
     "output_type": "stream",
     "text": [
      "###[ IP ]### \n",
      "  version   = 4\n",
      "  ihl       = 5\n",
      "  tos       = 0x0\n",
      "  len       = 97\n",
      "  id        = 7853\n",
      "  flags     = DF\n",
      "  frag      = 0\n",
      "  ttl       = 52\n",
      "  proto     = udp\n",
      "  chksum    = 0x5b06\n",
      "  src       = 1.1.1.1\n",
      "  dst       = 172.31.30.184\n",
      "  \\options   \\\n",
      "###[ UDP ]### \n",
      "     sport     = domain\n",
      "     dport     = domain\n",
      "     len       = 77\n",
      "     chksum    = 0x1d47\n",
      "###[ DNS ]### \n",
      "        id        = 0\n",
      "        qr        = 1\n",
      "        opcode    = QUERY\n",
      "        aa        = 0\n",
      "        tc        = 0\n",
      "        rd        = 1\n",
      "        ra        = 1\n",
      "        z         = 0\n",
      "        ad        = 0\n",
      "        cd        = 0\n",
      "        rcode     = ok\n",
      "        qdcount   = 1\n",
      "        ancount   = 2\n",
      "        nscount   = 0\n",
      "        arcount   = 0\n",
      "        \\qd        \\\n",
      "         |###[ DNS Question Record ]### \n",
      "         |  qname     = 'ipv6.waybarrios.com.'\n",
      "         |  qtype     = A\n",
      "         |  qclass    = IN\n",
      "        \\an        \\\n",
      "         |###[ DNS Resource Record ]### \n",
      "         |  rrname    = 'ipv6.waybarrios.com.'\n",
      "         |  type      = A\n",
      "         |  rclass    = IN\n",
      "         |  ttl       = 300\n",
      "         |  rdlen     = None\n",
      "         |  rdata     = 172.67.159.234\n",
      "         |###[ DNS Resource Record ]### \n",
      "         |  rrname    = 'ipv6.waybarrios.com.'\n",
      "         |  type      = A\n",
      "         |  rclass    = IN\n",
      "         |  ttl       = 300\n",
      "         |  rdlen     = None\n",
      "         |  rdata     = 104.21.66.126\n",
      "        ns        = None\n",
      "        ar        = None\n",
      "\n"
     ]
    }
   ],
   "source": [
    "ans_ipv4.show()"
   ]
  },
  {
   "cell_type": "markdown",
   "id": "436d26ab-6474-4d4d-ba42-59e8de6ae849",
   "metadata": {},
   "source": [
    "## Exercise 4"
   ]
  },
  {
   "cell_type": "code",
   "execution_count": 143,
   "id": "e7fa4dca-c75b-40e7-958b-a20aed688daf",
   "metadata": {},
   "outputs": [
    {
     "name": "stdout",
     "output_type": "stream",
     "text": [
      "PING  (104.21.66.126) 56(84) bytes of data.\n",
      "64 bytes from 104.21.66.126 (104.21.66.126): icmp_seq=1 ttl=49 time=0.829 ms\n",
      "64 bytes from 104.21.66.126 (104.21.66.126): icmp_seq=2 ttl=49 time=1.19 ms\n",
      "64 bytes from 104.21.66.126 (104.21.66.126): icmp_seq=3 ttl=49 time=0.853 ms\n",
      "\n",
      "---  ping statistics ---\n",
      "3 packets transmitted, 3 received, 0% packet loss, time 2004ms\n",
      "rtt min/avg/max/mdev = 0.829/0.956/1.187/0.163 ms\n"
     ]
    }
   ],
   "source": [
    "!ping -4 ipv6.waybarrios.com -c 3"
   ]
  },
  {
   "cell_type": "code",
   "execution_count": 152,
   "id": "b44be753-2435-4e38-b178-91771772c64d",
   "metadata": {},
   "outputs": [
    {
     "name": "stdout",
     "output_type": "stream",
     "text": [
      "ipv6.waybarrios.com.\t123\tIN\tA\t104.21.66.126\n",
      "ipv6.waybarrios.com.\t123\tIN\tA\t172.67.159.234\n"
     ]
    }
   ],
   "source": [
    "#only ipv4\n",
    "!dig +noall +answer -t A ipv6.waybarrios.com\n",
    "\n"
   ]
  },
  {
   "cell_type": "code",
   "execution_count": 154,
   "id": "b69f3db3-7fde-4850-a924-a86ee64d1824",
   "metadata": {},
   "outputs": [],
   "source": [
    "IPv4_host = \"104.21.66.126\""
   ]
  },
  {
   "cell_type": "code",
   "execution_count": 180,
   "id": "c2f0999b-8acf-4981-8bf4-a13620cffb05",
   "metadata": {},
   "outputs": [],
   "source": [
    "long_txt = b\"Internet Protocol version 4 is the fourth version of the Internet Protocol.IPv4 uses a 32bit address space which provides 4294967296 unique addresses.34345345345345345345345345345345345345345345345\""
   ]
  },
  {
   "cell_type": "code",
   "execution_count": 181,
   "id": "dfd20206-cbc6-4c55-a1ca-aa17a7fa641b",
   "metadata": {},
   "outputs": [
    {
     "data": {
      "text/plain": [
       "197"
      ]
     },
     "execution_count": 181,
     "metadata": {},
     "output_type": "execute_result"
    }
   ],
   "source": [
    "len(long_txt)"
   ]
  },
  {
   "cell_type": "code",
   "execution_count": 177,
   "id": "2f8da437-3d8f-4d1a-8943-7760d090a7e9",
   "metadata": {},
   "outputs": [
    {
     "data": {
      "text/plain": [
       "bytes"
      ]
     },
     "execution_count": 177,
     "metadata": {},
     "output_type": "execute_result"
    }
   ],
   "source": [
    "type(long_txt)"
   ]
  },
  {
   "cell_type": "code",
   "execution_count": 182,
   "id": "33225600-9465-4c79-8a1d-6dd3dcc06afe",
   "metadata": {},
   "outputs": [
    {
     "name": "stdout",
     "output_type": "stream",
     "text": [
      ".\n",
      "Sent 1 packets.\n"
     ]
    }
   ],
   "source": [
    "#send long string\n",
    "send(IP(dst=IPv4_host ) / ICMP() /long_txt , iface='eth0')"
   ]
  },
  {
   "cell_type": "markdown",
   "id": "360ddc7a-0567-4d6e-86df-e87da9643aca",
   "metadata": {},
   "source": [
    "#### Sniffer host output - DNS IPv4\n",
    "```bash\n",
    ">>> pkts=sniff(iface=\"eth0\",filter=\"icmp\")\n",
    ">>> pkts.show()\n",
    "0000 Ether / IP / ICMP 172.31.30.184 > 104.21.66.126 echo-request 0 / Raw\n",
    "0001 Ether / IP / ICMP 104.21.66.126 > 172.31.30.184 echo-reply 0 / Raw\n",
    ">>> pkts[0].show()\n",
    "###[ Ethernet ]###\n",
    "  dst       = 0a:54:50:8c:3c:29\n",
    "  src       = 0a:16:23:17:11:01\n",
    "  type      = IPv4\n",
    "###[ IP ]###\n",
    "     version   = 4\n",
    "     ihl       = 5\n",
    "     tos       = 0x0\n",
    "     len       = 178\n",
    "     id        = 1\n",
    "     flags     =\n",
    "     frag      = 0\n",
    "     ttl       = 64\n",
    "     proto     = icmp\n",
    "     chksum    = 0x4e0\n",
    "     src       = 172.31.30.184\n",
    "     dst       = 104.21.66.126\n",
    "     \\options   \\\n",
    "###[ ICMP ]###\n",
    "        type      = echo-request\n",
    "        code      = 0\n",
    "        chksum    = 0xe7b5\n",
    "        id        = 0x0\n",
    "        seq       = 0x0\n",
    "        unused    = ''\n",
    "###[ Raw ]###\n",
    "           load      = 'Internet Protocol version 4 is the fourth version of the Internet Protocol.IPv4 uses a 32bit address space which provides 4294967296 unique addresses.'\n",
    "\n",
    ">>> pkts[1].show()\n",
    "###[ Ethernet ]###\n",
    "  dst       = 0a:16:23:17:11:01\n",
    "  src       = 0a:54:50:8c:3c:29\n",
    "  type      = IPv4\n",
    "###[ IP ]###\n",
    "     version   = 4\n",
    "     ihl       = 5\n",
    "     tos       = 0x0\n",
    "     len       = 178\n",
    "     id        = 26034\n",
    "     flags     =\n",
    "     frag      = 0\n",
    "     ttl       = 48\n",
    "     proto     = icmp\n",
    "     chksum    = 0xaf2e\n",
    "     src       = 104.21.66.126\n",
    "     dst       = 172.31.30.184\n",
    "     \\options   \\\n",
    "###[ ICMP ]###\n",
    "        type      = echo-reply\n",
    "        code      = 0\n",
    "        chksum    = 0xefb5\n",
    "        id        = 0x0\n",
    "        seq       = 0x0\n",
    "        unused    = ''\n",
    "###[ Raw ]###\n",
    "           load      = 'Internet Protocol version 4 is the fourth version of the Internet Protocol.IPv4 uses a 32bit address space which provides 4294967296 unique addresses.'\n",
    "```"
   ]
  },
  {
   "cell_type": "code",
   "execution_count": null,
   "id": "f90748f2-bd80-4ae7-bfea-48c9ea41cee9",
   "metadata": {},
   "outputs": [],
   "source": []
  }
 ],
 "metadata": {
  "kernelspec": {
   "display_name": "Python 3 (ipykernel)",
   "language": "python",
   "name": "python3"
  },
  "language_info": {
   "codemirror_mode": {
    "name": "ipython",
    "version": 3
   },
   "file_extension": ".py",
   "mimetype": "text/x-python",
   "name": "python",
   "nbconvert_exporter": "python",
   "pygments_lexer": "ipython3",
   "version": "3.9.0"
  }
 },
 "nbformat": 4,
 "nbformat_minor": 5
}
